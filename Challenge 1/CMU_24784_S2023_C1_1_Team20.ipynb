{
 "cells": [
  {
   "cell_type": "markdown",
   "metadata": {
    "id": "dS0fvdt4EpW7"
   },
   "source": [
    "# C1.1 Evaluation on Object Detection\n",
    "\n",
    "## Introduction\n",
    "\n",
    "- Task: Evaluate the average precision of the data collected from SafeBench.\n",
    "\n",
    "- Submission: the plotted P-R curve, as well as the average precision at different IoU threshold level."
   ]
  },
  {
   "cell_type": "markdown",
   "metadata": {
    "id": "d2ZNm9nb8hIR"
   },
   "source": [
    "## Team:\n",
    "### Alonso Buitano Tang\n",
    "### Haineng Huang\n",
    "### Yanchen Liu"
   ]
  },
  {
   "cell_type": "code",
   "execution_count": 1,
   "metadata": {
    "id": "b_Kl9io2EfoG"
   },
   "outputs": [],
   "source": [
    "import joblib\n",
    "import numpy as np\n",
    "import pandas as pd\n",
    "from matplotlib import pyplot as plt"
   ]
  },
  {
   "cell_type": "markdown",
   "metadata": {
    "id": "yft3dzwjEfMS"
   },
   "source": [
    "\n",
    "### Load the Detection Results from SafeBench_v2\n",
    "\n",
    "Link to the `results.pkl` data: https://drive.google.com/file/d/1WyZfjhTAMbwSgkRNi1dC7r4TSf-DBil2/view?usp=sharing\n",
    "\n",
    "Download and extract it with this notebook."
   ]
  },
  {
   "cell_type": "code",
   "execution_count": 2,
   "metadata": {
    "colab": {
     "base_uri": "https://localhost:8080/"
    },
    "id": "lonMVggYRdRM",
    "outputId": "76d3e3fc-d09d-4d9d-e21a-75c754c30a08"
   },
   "outputs": [
    {
     "name": "stdout",
     "output_type": "stream",
     "text": [
      "Mounted at /content/drive\n",
      "Archive:  results.zip\n",
      "  inflating: results.pkl             \n",
      "  inflating: __MACOSX/._results.pkl  \n"
     ]
    },
    {
     "data": {
      "text/plain": [
       "dict_keys(['image_id', 'predicted_class', 'ground_truth_bbox', 'predicted_bbox', 'conf_scores', 'num_labels'])"
      ]
     },
     "execution_count": 2,
     "metadata": {},
     "output_type": "execute_result"
    }
   ],
   "source": [
    "from google.colab import drive\n",
    "drive.mount('/content/drive')\n",
    "\n",
    "# OR uncomment following code, upload the dataset zip file, unzip by running the following code\n",
    "! cp '/content/drive/MyDrive/24784/c1/results.zip' .\n",
    "! unzip results.zip\n",
    "\n",
    "inputs = joblib.load('results.pkl')  # move the files to your current folder\n",
    "inputs.keys() # dict_keys(['image_id', 'predicted_class', 'ground_truth_bbox', 'predicted_bbox', 'conf_scores', 'num_labels'])"
   ]
  },
  {
   "cell_type": "code",
   "execution_count": 3,
   "metadata": {
    "colab": {
     "base_uri": "https://localhost:8080/"
    },
    "id": "EKILjmEUnlEX",
    "outputId": "6b685af7-6589-4e6b-d0e9-861bcb45f58d"
   },
   "outputs": [
    {
     "data": {
      "text/plain": [
       "92"
      ]
     },
     "execution_count": 3,
     "metadata": {},
     "output_type": "execute_result"
    }
   ],
   "source": [
    "inputs['num_labels']"
   ]
  },
  {
   "cell_type": "markdown",
   "metadata": {
    "id": "np7wJ9NsRp9R"
   },
   "source": [
    "### Compute the IoU"
   ]
  },
  {
   "cell_type": "code",
   "execution_count": 4,
   "metadata": {
    "id": "4FVpgQIWRyzp"
   },
   "outputs": [],
   "source": [
    "def box_area(box):\n",
    "    \"\"\" Compute the box area, given all the vertices\n",
    "    # Arguments\n",
    "        box:  (4, N) ndarray\n",
    "    # Returns\n",
    "        areas: (N, ) ndarray\n",
    "    \"\"\"\n",
    "    # areas = (box[:,2] - box[:,0]) * (box[:,3] - box[:,1]) # TODO, compute the rectangle areas based on the vertices input\n",
    "    a1, a2 = np.split(box, 2, axis=1)\n",
    "    areas = (a1 - a2).prod(axis=1)\n",
    "    return areas\n",
    "\n",
    "def box_iou(box1, box2): \n",
    "    '''\n",
    "      Compute the iou between box1 and box2\n",
    "      ONLY consider the SINGLE ground truth, which is a simplified case\n",
    "      box1: (N, 4) ndarray\n",
    "      box2: (N, 4) ndarray\n",
    "      return: (N, ) iou scores\n",
    "    '''\n",
    "    eps = 1e-7\n",
    "\n",
    "    a1, a2 = np.split(box1, 2, axis=1)\n",
    "    b1, b2 = np.split(box2, 2, axis=1)\n",
    "\n",
    "    c1 = np.maximum(a1, b1)\n",
    "    c2 = np.minimum(a2, b2)\n",
    "\n",
    "    inter = np.maximum(0, box_area(np.concatenate((c1,c2), axis=1)))\n",
    "    union = box_area(box1) + box_area(box2) - inter   \n",
    "\n",
    "    return inter / (union + eps)\n"
   ]
  },
  {
   "cell_type": "code",
   "execution_count": 5,
   "metadata": {
    "colab": {
     "base_uri": "https://localhost:8080/",
     "height": 424
    },
    "id": "PooLy9MYSYlz",
    "outputId": "8cf811ec-1574-41a0-e3f5-7f97fada07af"
   },
   "outputs": [
    {
     "data": {
      "text/html": [
       "\n",
       "  <div id=\"df-f8b284cd-14e1-4b38-a0ad-e8dbdc78d2f7\">\n",
       "    <div class=\"colab-df-container\">\n",
       "      <div>\n",
       "<style scoped>\n",
       "    .dataframe tbody tr th:only-of-type {\n",
       "        vertical-align: middle;\n",
       "    }\n",
       "\n",
       "    .dataframe tbody tr th {\n",
       "        vertical-align: top;\n",
       "    }\n",
       "\n",
       "    .dataframe thead th {\n",
       "        text-align: right;\n",
       "    }\n",
       "</style>\n",
       "<table border=\"1\" class=\"dataframe\">\n",
       "  <thead>\n",
       "    <tr style=\"text-align: right;\">\n",
       "      <th></th>\n",
       "      <th>image_id</th>\n",
       "      <th>predicted_class</th>\n",
       "      <th>conf_scores</th>\n",
       "      <th>iou_scores</th>\n",
       "    </tr>\n",
       "  </thead>\n",
       "  <tbody>\n",
       "    <tr>\n",
       "      <th>0</th>\n",
       "      <td>0</td>\n",
       "      <td>None</td>\n",
       "      <td>-1.000000</td>\n",
       "      <td>-1.001914</td>\n",
       "    </tr>\n",
       "    <tr>\n",
       "      <th>1</th>\n",
       "      <td>1</td>\n",
       "      <td>car</td>\n",
       "      <td>0.671808</td>\n",
       "      <td>0.000000</td>\n",
       "    </tr>\n",
       "    <tr>\n",
       "      <th>2</th>\n",
       "      <td>1</td>\n",
       "      <td>car</td>\n",
       "      <td>0.563249</td>\n",
       "      <td>0.000000</td>\n",
       "    </tr>\n",
       "    <tr>\n",
       "      <th>3</th>\n",
       "      <td>1</td>\n",
       "      <td>car</td>\n",
       "      <td>0.452749</td>\n",
       "      <td>0.800520</td>\n",
       "    </tr>\n",
       "    <tr>\n",
       "      <th>4</th>\n",
       "      <td>1</td>\n",
       "      <td>car</td>\n",
       "      <td>0.428004</td>\n",
       "      <td>0.000000</td>\n",
       "    </tr>\n",
       "    <tr>\n",
       "      <th>...</th>\n",
       "      <td>...</td>\n",
       "      <td>...</td>\n",
       "      <td>...</td>\n",
       "      <td>...</td>\n",
       "    </tr>\n",
       "    <tr>\n",
       "      <th>1631</th>\n",
       "      <td>91</td>\n",
       "      <td>train</td>\n",
       "      <td>0.219339</td>\n",
       "      <td>0.000000</td>\n",
       "    </tr>\n",
       "    <tr>\n",
       "      <th>1632</th>\n",
       "      <td>91</td>\n",
       "      <td>bus</td>\n",
       "      <td>0.173378</td>\n",
       "      <td>0.000000</td>\n",
       "    </tr>\n",
       "    <tr>\n",
       "      <th>1633</th>\n",
       "      <td>91</td>\n",
       "      <td>person</td>\n",
       "      <td>0.101061</td>\n",
       "      <td>0.000000</td>\n",
       "    </tr>\n",
       "    <tr>\n",
       "      <th>1634</th>\n",
       "      <td>91</td>\n",
       "      <td>sink</td>\n",
       "      <td>0.088729</td>\n",
       "      <td>0.000000</td>\n",
       "    </tr>\n",
       "    <tr>\n",
       "      <th>1635</th>\n",
       "      <td>91</td>\n",
       "      <td>dining table</td>\n",
       "      <td>0.073306</td>\n",
       "      <td>0.000000</td>\n",
       "    </tr>\n",
       "  </tbody>\n",
       "</table>\n",
       "<p>1636 rows × 4 columns</p>\n",
       "</div>\n",
       "      <button class=\"colab-df-convert\" onclick=\"convertToInteractive('df-f8b284cd-14e1-4b38-a0ad-e8dbdc78d2f7')\"\n",
       "              title=\"Convert this dataframe to an interactive table.\"\n",
       "              style=\"display:none;\">\n",
       "        \n",
       "  <svg xmlns=\"http://www.w3.org/2000/svg\" height=\"24px\"viewBox=\"0 0 24 24\"\n",
       "       width=\"24px\">\n",
       "    <path d=\"M0 0h24v24H0V0z\" fill=\"none\"/>\n",
       "    <path d=\"M18.56 5.44l.94 2.06.94-2.06 2.06-.94-2.06-.94-.94-2.06-.94 2.06-2.06.94zm-11 1L8.5 8.5l.94-2.06 2.06-.94-2.06-.94L8.5 2.5l-.94 2.06-2.06.94zm10 10l.94 2.06.94-2.06 2.06-.94-2.06-.94-.94-2.06-.94 2.06-2.06.94z\"/><path d=\"M17.41 7.96l-1.37-1.37c-.4-.4-.92-.59-1.43-.59-.52 0-1.04.2-1.43.59L10.3 9.45l-7.72 7.72c-.78.78-.78 2.05 0 2.83L4 21.41c.39.39.9.59 1.41.59.51 0 1.02-.2 1.41-.59l7.78-7.78 2.81-2.81c.8-.78.8-2.07 0-2.86zM5.41 20L4 18.59l7.72-7.72 1.47 1.35L5.41 20z\"/>\n",
       "  </svg>\n",
       "      </button>\n",
       "      \n",
       "  <style>\n",
       "    .colab-df-container {\n",
       "      display:flex;\n",
       "      flex-wrap:wrap;\n",
       "      gap: 12px;\n",
       "    }\n",
       "\n",
       "    .colab-df-convert {\n",
       "      background-color: #E8F0FE;\n",
       "      border: none;\n",
       "      border-radius: 50%;\n",
       "      cursor: pointer;\n",
       "      display: none;\n",
       "      fill: #1967D2;\n",
       "      height: 32px;\n",
       "      padding: 0 0 0 0;\n",
       "      width: 32px;\n",
       "    }\n",
       "\n",
       "    .colab-df-convert:hover {\n",
       "      background-color: #E2EBFA;\n",
       "      box-shadow: 0px 1px 2px rgba(60, 64, 67, 0.3), 0px 1px 3px 1px rgba(60, 64, 67, 0.15);\n",
       "      fill: #174EA6;\n",
       "    }\n",
       "\n",
       "    [theme=dark] .colab-df-convert {\n",
       "      background-color: #3B4455;\n",
       "      fill: #D2E3FC;\n",
       "    }\n",
       "\n",
       "    [theme=dark] .colab-df-convert:hover {\n",
       "      background-color: #434B5C;\n",
       "      box-shadow: 0px 1px 3px 1px rgba(0, 0, 0, 0.15);\n",
       "      filter: drop-shadow(0px 1px 2px rgba(0, 0, 0, 0.3));\n",
       "      fill: #FFFFFF;\n",
       "    }\n",
       "  </style>\n",
       "\n",
       "      <script>\n",
       "        const buttonEl =\n",
       "          document.querySelector('#df-f8b284cd-14e1-4b38-a0ad-e8dbdc78d2f7 button.colab-df-convert');\n",
       "        buttonEl.style.display =\n",
       "          google.colab.kernel.accessAllowed ? 'block' : 'none';\n",
       "\n",
       "        async function convertToInteractive(key) {\n",
       "          const element = document.querySelector('#df-f8b284cd-14e1-4b38-a0ad-e8dbdc78d2f7');\n",
       "          const dataTable =\n",
       "            await google.colab.kernel.invokeFunction('convertToInteractive',\n",
       "                                                     [key], {});\n",
       "          if (!dataTable) return;\n",
       "\n",
       "          const docLinkHtml = 'Like what you see? Visit the ' +\n",
       "            '<a target=\"_blank\" href=https://colab.research.google.com/notebooks/data_table.ipynb>data table notebook</a>'\n",
       "            + ' to learn more about interactive tables.';\n",
       "          element.innerHTML = '';\n",
       "          dataTable['output_type'] = 'display_data';\n",
       "          await google.colab.output.renderOutput(dataTable, element);\n",
       "          const docLink = document.createElement('div');\n",
       "          docLink.innerHTML = docLinkHtml;\n",
       "          element.appendChild(docLink);\n",
       "        }\n",
       "      </script>\n",
       "    </div>\n",
       "  </div>\n",
       "  "
      ],
      "text/plain": [
       "      image_id predicted_class  conf_scores  iou_scores\n",
       "0            0            None    -1.000000   -1.001914\n",
       "1            1             car     0.671808    0.000000\n",
       "2            1             car     0.563249    0.000000\n",
       "3            1             car     0.452749    0.800520\n",
       "4            1             car     0.428004    0.000000\n",
       "...        ...             ...          ...         ...\n",
       "1631        91           train     0.219339    0.000000\n",
       "1632        91             bus     0.173378    0.000000\n",
       "1633        91          person     0.101061    0.000000\n",
       "1634        91            sink     0.088729    0.000000\n",
       "1635        91    dining table     0.073306    0.000000\n",
       "\n",
       "[1636 rows x 4 columns]"
      ]
     },
     "execution_count": 5,
     "metadata": {},
     "output_type": "execute_result"
    }
   ],
   "source": [
    "# TODO: get the box iou scores from the function you implemented above\n",
    "iou_scores = box_iou(inputs['ground_truth_bbox'], inputs['predicted_bbox'])\n",
    "\n",
    "# Build your dataframe from the dictionary\n",
    "input_dict = {\n",
    "        'image_id': inputs['image_id'], \n",
    "        'predicted_class': inputs['predicted_class'], \n",
    "        'conf_scores': inputs['conf_scores'], \n",
    "        'iou_scores': iou_scores, \n",
    "      }\n",
    "df = pd.DataFrame.from_dict(input_dict)\n",
    "df"
   ]
  },
  {
   "cell_type": "code",
   "execution_count": 6,
   "metadata": {
    "colab": {
     "base_uri": "https://localhost:8080/",
     "height": 424
    },
    "id": "84DC1YNpVE1d",
    "outputId": "b2adca48-5e9f-4635-d3d8-e92a23f1a379"
   },
   "outputs": [
    {
     "data": {
      "text/html": [
       "\n",
       "  <div id=\"df-2b9b0144-186e-4e1d-a89b-a339dbdac72c\">\n",
       "    <div class=\"colab-df-container\">\n",
       "      <div>\n",
       "<style scoped>\n",
       "    .dataframe tbody tr th:only-of-type {\n",
       "        vertical-align: middle;\n",
       "    }\n",
       "\n",
       "    .dataframe tbody tr th {\n",
       "        vertical-align: top;\n",
       "    }\n",
       "\n",
       "    .dataframe thead th {\n",
       "        text-align: right;\n",
       "    }\n",
       "</style>\n",
       "<table border=\"1\" class=\"dataframe\">\n",
       "  <thead>\n",
       "    <tr style=\"text-align: right;\">\n",
       "      <th></th>\n",
       "      <th>image_id</th>\n",
       "      <th>predicted_class</th>\n",
       "      <th>conf_scores</th>\n",
       "      <th>iou_scores</th>\n",
       "    </tr>\n",
       "  </thead>\n",
       "  <tbody>\n",
       "    <tr>\n",
       "      <th>160</th>\n",
       "      <td>7</td>\n",
       "      <td>stopsign</td>\n",
       "      <td>0.071092</td>\n",
       "      <td>0.812147</td>\n",
       "    </tr>\n",
       "    <tr>\n",
       "      <th>345</th>\n",
       "      <td>15</td>\n",
       "      <td>stopsign</td>\n",
       "      <td>0.052572</td>\n",
       "      <td>0.823549</td>\n",
       "    </tr>\n",
       "    <tr>\n",
       "      <th>712</th>\n",
       "      <td>33</td>\n",
       "      <td>stopsign</td>\n",
       "      <td>0.110136</td>\n",
       "      <td>0.814429</td>\n",
       "    </tr>\n",
       "    <tr>\n",
       "      <th>731</th>\n",
       "      <td>34</td>\n",
       "      <td>stopsign</td>\n",
       "      <td>0.159796</td>\n",
       "      <td>0.844884</td>\n",
       "    </tr>\n",
       "    <tr>\n",
       "      <th>772</th>\n",
       "      <td>36</td>\n",
       "      <td>stopsign</td>\n",
       "      <td>0.128940</td>\n",
       "      <td>0.850620</td>\n",
       "    </tr>\n",
       "    <tr>\n",
       "      <th>...</th>\n",
       "      <td>...</td>\n",
       "      <td>...</td>\n",
       "      <td>...</td>\n",
       "      <td>...</td>\n",
       "    </tr>\n",
       "    <tr>\n",
       "      <th>1606</th>\n",
       "      <td>88</td>\n",
       "      <td>stopsign</td>\n",
       "      <td>0.119673</td>\n",
       "      <td>0.025573</td>\n",
       "    </tr>\n",
       "    <tr>\n",
       "      <th>1610</th>\n",
       "      <td>89</td>\n",
       "      <td>stopsign</td>\n",
       "      <td>0.997623</td>\n",
       "      <td>0.932374</td>\n",
       "    </tr>\n",
       "    <tr>\n",
       "      <th>1622</th>\n",
       "      <td>90</td>\n",
       "      <td>stopsign</td>\n",
       "      <td>0.995437</td>\n",
       "      <td>0.923847</td>\n",
       "    </tr>\n",
       "    <tr>\n",
       "      <th>1628</th>\n",
       "      <td>90</td>\n",
       "      <td>stopsign</td>\n",
       "      <td>0.052746</td>\n",
       "      <td>0.032057</td>\n",
       "    </tr>\n",
       "    <tr>\n",
       "      <th>1629</th>\n",
       "      <td>91</td>\n",
       "      <td>stopsign</td>\n",
       "      <td>0.995099</td>\n",
       "      <td>0.614191</td>\n",
       "    </tr>\n",
       "  </tbody>\n",
       "</table>\n",
       "<p>66 rows × 4 columns</p>\n",
       "</div>\n",
       "      <button class=\"colab-df-convert\" onclick=\"convertToInteractive('df-2b9b0144-186e-4e1d-a89b-a339dbdac72c')\"\n",
       "              title=\"Convert this dataframe to an interactive table.\"\n",
       "              style=\"display:none;\">\n",
       "        \n",
       "  <svg xmlns=\"http://www.w3.org/2000/svg\" height=\"24px\"viewBox=\"0 0 24 24\"\n",
       "       width=\"24px\">\n",
       "    <path d=\"M0 0h24v24H0V0z\" fill=\"none\"/>\n",
       "    <path d=\"M18.56 5.44l.94 2.06.94-2.06 2.06-.94-2.06-.94-.94-2.06-.94 2.06-2.06.94zm-11 1L8.5 8.5l.94-2.06 2.06-.94-2.06-.94L8.5 2.5l-.94 2.06-2.06.94zm10 10l.94 2.06.94-2.06 2.06-.94-2.06-.94-.94-2.06-.94 2.06-2.06.94z\"/><path d=\"M17.41 7.96l-1.37-1.37c-.4-.4-.92-.59-1.43-.59-.52 0-1.04.2-1.43.59L10.3 9.45l-7.72 7.72c-.78.78-.78 2.05 0 2.83L4 21.41c.39.39.9.59 1.41.59.51 0 1.02-.2 1.41-.59l7.78-7.78 2.81-2.81c.8-.78.8-2.07 0-2.86zM5.41 20L4 18.59l7.72-7.72 1.47 1.35L5.41 20z\"/>\n",
       "  </svg>\n",
       "      </button>\n",
       "      \n",
       "  <style>\n",
       "    .colab-df-container {\n",
       "      display:flex;\n",
       "      flex-wrap:wrap;\n",
       "      gap: 12px;\n",
       "    }\n",
       "\n",
       "    .colab-df-convert {\n",
       "      background-color: #E8F0FE;\n",
       "      border: none;\n",
       "      border-radius: 50%;\n",
       "      cursor: pointer;\n",
       "      display: none;\n",
       "      fill: #1967D2;\n",
       "      height: 32px;\n",
       "      padding: 0 0 0 0;\n",
       "      width: 32px;\n",
       "    }\n",
       "\n",
       "    .colab-df-convert:hover {\n",
       "      background-color: #E2EBFA;\n",
       "      box-shadow: 0px 1px 2px rgba(60, 64, 67, 0.3), 0px 1px 3px 1px rgba(60, 64, 67, 0.15);\n",
       "      fill: #174EA6;\n",
       "    }\n",
       "\n",
       "    [theme=dark] .colab-df-convert {\n",
       "      background-color: #3B4455;\n",
       "      fill: #D2E3FC;\n",
       "    }\n",
       "\n",
       "    [theme=dark] .colab-df-convert:hover {\n",
       "      background-color: #434B5C;\n",
       "      box-shadow: 0px 1px 3px 1px rgba(0, 0, 0, 0.15);\n",
       "      filter: drop-shadow(0px 1px 2px rgba(0, 0, 0, 0.3));\n",
       "      fill: #FFFFFF;\n",
       "    }\n",
       "  </style>\n",
       "\n",
       "      <script>\n",
       "        const buttonEl =\n",
       "          document.querySelector('#df-2b9b0144-186e-4e1d-a89b-a339dbdac72c button.colab-df-convert');\n",
       "        buttonEl.style.display =\n",
       "          google.colab.kernel.accessAllowed ? 'block' : 'none';\n",
       "\n",
       "        async function convertToInteractive(key) {\n",
       "          const element = document.querySelector('#df-2b9b0144-186e-4e1d-a89b-a339dbdac72c');\n",
       "          const dataTable =\n",
       "            await google.colab.kernel.invokeFunction('convertToInteractive',\n",
       "                                                     [key], {});\n",
       "          if (!dataTable) return;\n",
       "\n",
       "          const docLinkHtml = 'Like what you see? Visit the ' +\n",
       "            '<a target=\"_blank\" href=https://colab.research.google.com/notebooks/data_table.ipynb>data table notebook</a>'\n",
       "            + ' to learn more about interactive tables.';\n",
       "          element.innerHTML = '';\n",
       "          dataTable['output_type'] = 'display_data';\n",
       "          await google.colab.output.renderOutput(dataTable, element);\n",
       "          const docLink = document.createElement('div');\n",
       "          docLink.innerHTML = docLinkHtml;\n",
       "          element.appendChild(docLink);\n",
       "        }\n",
       "      </script>\n",
       "    </div>\n",
       "  </div>\n",
       "  "
      ],
      "text/plain": [
       "      image_id predicted_class  conf_scores  iou_scores\n",
       "160          7        stopsign     0.071092    0.812147\n",
       "345         15        stopsign     0.052572    0.823549\n",
       "712         33        stopsign     0.110136    0.814429\n",
       "731         34        stopsign     0.159796    0.844884\n",
       "772         36        stopsign     0.128940    0.850620\n",
       "...        ...             ...          ...         ...\n",
       "1606        88        stopsign     0.119673    0.025573\n",
       "1610        89        stopsign     0.997623    0.932374\n",
       "1622        90        stopsign     0.995437    0.923847\n",
       "1628        90        stopsign     0.052746    0.032057\n",
       "1629        91        stopsign     0.995099    0.614191\n",
       "\n",
       "[66 rows x 4 columns]"
      ]
     },
     "execution_count": 6,
     "metadata": {},
     "output_type": "execute_result"
    }
   ],
   "source": [
    "df = df[df.conf_scores >= 0] # drop all the frames without detection (conf scores = -1)\n",
    "\n",
    "# get all the detection results of stop signs\n",
    "df_stopsign = df.loc[(df.predicted_class=='stopsign')]\n",
    "df_stopsign"
   ]
  },
  {
   "cell_type": "markdown",
   "metadata": {
    "id": "u2gof6e_tl1y"
   },
   "source": [
    "## Compute the Avereage Precision"
   ]
  },
  {
   "cell_type": "code",
   "execution_count": 7,
   "metadata": {
    "id": "qeORl8BjgZz2"
   },
   "outputs": [],
   "source": [
    "def interp_ap(recall, precision, method = 'interp'):\n",
    "    \"\"\" Compute the average precision, given the recall and precision curves\n",
    "    # Arguments\n",
    "        recall:    The recall curve (list)\n",
    "        precision: The precision curve (list),\n",
    "        methods: 'continuous', 'interp'\n",
    "    # Returns\n",
    "        Average precision, precision curve, recall curve\n",
    "    \"\"\"\n",
    "\n",
    "    # TODO: Append sentinel values to beginning and end \n",
    "    # Recall should start with 1.0 and end with 0.0\n",
    "    # Precision should start with 0.0 and end with 1.0\n",
    "\n",
    "    appended_recall = np.concatenate(([1.0], np.flip(recall), [0.0]))\n",
    "    appended_prec_input = np.concatenate(([0.0], np.flip(precision), [1.0]))\n",
    "\n",
    "    # Compute the precision envelope\n",
    "    appended_prec = np.maximum.accumulate(appended_prec_input)              \n",
    "\n",
    "    appended_recall = np.flip(appended_recall)\n",
    "    appended_prec = np.flip(appended_prec)\n",
    "    appended_prec_input = np.flip(appended_prec_input)\n",
    "    # Integrate area under curve\n",
    "    if method == 'interp':\n",
    "        x = np.linspace(0, 1, 101)    # 101-point interp (COCO)\n",
    "        ap = np.trapz(np.interp(x, appended_recall, appended_prec), x)                   \n",
    "    else:  # 'continuous', you can refer to the computation of AP in this setting when finishing the interp AP calculation\n",
    "        i = np.where(appended_recall[1:] != appended_recall[:-1])[0]  # points where x axis (recall) changes\n",
    "        ap = np.sum((appended_recall[i + 1] - appended_recall[i]) * appended_prec[i + 1])  # area under curve\n",
    "\n",
    "    return ap, appended_prec_input, appended_prec, appended_recall\n",
    "\n"
   ]
  },
  {
   "cell_type": "code",
   "execution_count": 8,
   "metadata": {
    "id": "IsMhUm7OUotl"
   },
   "outputs": [],
   "source": [
    "def compute_ap(df, num_gt, iou_thres):\n",
    "    \"\"\" Compute the average precision, given the recall and precision curves\n",
    "    # Arguments\n",
    "        df:         DataFrame inputs containing predicted classes, iou_scores, and confidence\n",
    "        num_gt:     The precision curve (list),\n",
    "        iou_thres:  IoU threshold of True Positive (TP) detection\n",
    "    # Returns\n",
    "        Average precision, precision curve, recall curve\n",
    "    \"\"\"\n",
    "    df = df.sort_values('conf_scores', ascending=False)  \n",
    "    tp_fp = np.arange(1, df.shape[0]+1)                                         # TODO: get the sum of all the true positive and false positive predictions\n",
    "    tp = ((df.iou_scores >= iou_thres) & (df.predicted_class == \"stopsign\")).cumsum().to_numpy()           # TODO: get the true positive sets\n",
    "\n",
    "    precision = tp / tp_fp      # array (N, )\n",
    "    recall = tp / num_gt        # array (N, )\n",
    "\n",
    "    ap, prec_raw, prec, recall = interp_ap(recall, precision)           # get the AP and returned curve for plot\n",
    "\n",
    "    return ap, prec_raw, prec, recall"
   ]
  },
  {
   "cell_type": "markdown",
   "metadata": {
    "id": "NbtBxdhHtpq-"
   },
   "source": [
    "## Visualization"
   ]
  },
  {
   "cell_type": "code",
   "execution_count": 9,
   "metadata": {
    "id": "yVpGN7b-iDqe"
   },
   "outputs": [],
   "source": [
    "def plot_pr_curves(recall, prec_raw, prec):\n",
    "    \"\"\" Visualize the P-R curves\n",
    "        Visualize the areas under P-R curves\n",
    "    \"\"\"\n",
    "    plt.figure()\n",
    "    plt.plot(recall, prec_raw)\n",
    "    plt.plot(recall, prec)\n",
    "    plt.fill_between(recall, np.zeros_like(recall), prec, color='orange', alpha=0.2)\n",
    "    plt.legend(['Raw curve', 'Precision Envelope', 'Average Precision'])\n",
    "    plt.title('P-R Curve')\n",
    "    plt.xlabel('Recall')\n",
    "    plt.ylabel('Precision')"
   ]
  },
  {
   "cell_type": "markdown",
   "metadata": {
    "id": "gH_FoxmWtsZ5"
   },
   "source": [
    "## Execute the AP calculation"
   ]
  },
  {
   "cell_type": "code",
   "execution_count": 10,
   "metadata": {
    "colab": {
     "base_uri": "https://localhost:8080/",
     "height": 1000
    },
    "id": "b8kBiZLCUouR",
    "outputId": "2f67a384-7238-4e94-cce4-73cd876178b5"
   },
   "outputs": [
    {
     "name": "stdout",
     "output_type": "stream",
     "text": [
      "IoU Threshold: 0.50   |    AP@0.50 0.4272559074361477\n",
      "IoU Threshold: 0.60   |    AP@0.60 0.4272559074361477\n",
      "IoU Threshold: 0.70   |    AP@0.70 0.40686292416368364\n",
      "IoU Threshold: 0.80   |    AP@0.80 0.4018855902817313\n",
      "IoU Threshold: 0.90   |    AP@0.90 0.3466670309329718\n"
     ]
    },
    {
     "data": {
      "image/png": "[encoded data removed]",
      "text/plain": [
       "<Figure size 432x288 with 1 Axes>"
      ]
     },
     "metadata": {
      "needs_background": "light"
     },
     "output_type": "display_data"
    },
    {
     "data": {
      "image/png": "[encoded data removed]",
      "text/plain": [
       "<Figure size 432x288 with 1 Axes>"
      ]
     },
     "metadata": {
      "needs_background": "light"
     },
     "output_type": "display_data"
    },
    {
     "data": {
      "image/png": "[encoded data removed]",
      "text/plain": [
       "<Figure size 432x288 with 1 Axes>"
      ]
     },
     "metadata": {
      "needs_background": "light"
     },
     "output_type": "display_data"
    },
    {
     "data": {
      "image/png": "[encoded data removed]",
      "text/plain": [
       "<Figure size 432x288 with 1 Axes>"
      ]
     },
     "metadata": {
      "needs_background": "light"
     },
     "output_type": "display_data"
    },
    {
     "data": {
      "image/png": "[encoded data removed]",
      "text/plain": [
       "<Figure size 432x288 with 1 Axes>"
      ]
     },
     "metadata": {
      "needs_background": "light"
     },
     "output_type": "display_data"
    }
   ],
   "source": [
    "# Traverse over IoU threshold, get AP@[0.5:0.1:0.9]\n",
    "\n",
    "for iou_thres in np.arange(0.5, 1.0, 0.1):\n",
    "    ap, prec_raw, prec, recall = compute_ap(df, inputs['num_labels'], iou_thres)\n",
    "    print('IoU Threshold: {:.2f}'.format(iou_thres), '  |    AP@{:.2f}'.format(iou_thres), ap)\n",
    "    plot_pr_curves(recall, prec_raw, prec)\n"
   ]
  },
  {
   "cell_type": "markdown",
   "metadata": {
    "id": "SkRv6VGodT6g"
   },
   "source": [
    "## IoU Calculation\n",
    "\n",
    "Since we have the bottom-left corner of each rectangle as a1 and b1 = (x1,y1), and the top-right corner as a2 and b2 = (x2,y2), we obtain get the maximum values of a1 and b1, giving us the larger x1 and y1 as the bottom-left corner of the intersection region. Similarly, we obtain the minimum values between a2 and b2, giving us the smaller x2 and y2 as the top-right corner of the rectangle.\n",
    "Using this method, if the two boxes don't intersect, the area of intersection will always be negative, so we use max(0, box_area) in order to set negative values to 0 (intersection area = 0 when no intersection).\n",
    "Union area is calculated by summing the area od both boxes and subtracting the intersection area.\n",
    "From there, the IoU is obtained by dividing the intersection area over the union.\n",
    "\n",
    "\n",
    "## AP trend vs IoU threshold\n",
    "\n",
    "When we increase the IoU threshold, we can see that the calculated AP value gets smaller, this makes sense since a higher threshold means that we are making a stricter threshold for true positives, meaning that we are likely to have less tp and more fp. This leads to a lower precision and recall, making the area under the P-R curve smaller.\n",
    "This can be observed in the P-R plots above, where at higher thresholds the precision falls faster, and the maximum value of the recall (excluding the sentinel value of 1) gets smaller."
   ]
  },
  {
   "cell_type": "code",
   "execution_count": 10,
   "metadata": {
    "id": "ipbIcVOqgYZg"
   },
   "outputs": [],
   "source": []
  }
 ],
 "metadata": {
  "colab": {
   "provenance": []
  },
  "gpuClass": "standard",
  "kernelspec": {
   "display_name": "Python 3 (ipykernel)",
   "language": "python",
   "name": "python3"
  },
  "language_info": {
   "codemirror_mode": {
    "name": "ipython",
    "version": 3
   },
   "file_extension": ".py",
   "mimetype": "text/x-python",
   "name": "python",
   "nbconvert_exporter": "python",
   "pygments_lexer": "ipython3",
   "version": "3.10.6"
  }
 },
 "nbformat": 4,
 "nbformat_minor": 1
}
