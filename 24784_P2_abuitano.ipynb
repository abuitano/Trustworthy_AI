{
 "cells": [
  {
   "cell_type": "markdown",
   "metadata": {
    "id": "5eeje4O8fviH",
    "pycharm": {
     "name": "#%% md\n"
    }
   },
   "source": [
    "# 24784 - Trustworthy AI Autonomy (Homework 2)\n",
    "\n",
    "## Instructions\n",
    "In this homework you are going to experiment with two model-based reinforcement learning (MBRL) algorithms. You will first code the missing part in models using [PyTorch](https://pytorch.org/tutorials/beginner/deep_learning_60min_blitz.html) and [GPyTorch](https://docs.gpytorch.ai/en/stable/).\n",
    "You will then implement your algorithms to control a vehicle in an parking in [highway-env](https://github.com/eleurent/highway-env). This homework is modefied based on the colab [template](https://colab.research.google.com/github/eleurent/highway-env/blob/master/scripts/parking_model_based.ipynb#scrollTo=NwCDLD1wfvi2) from Edouard Leurent.\n",
    "\n",
    "The main experiments uses **parking-v0** environment. The goal is to park a vehicle to a given goal location with the appropriate heading by controlling the gas pedal and steering angle.\n"
   ]
  },
  {
   "cell_type": "markdown",
   "metadata": {
    "id": "9ae3khagJLQj"
   },
   "source": [
    "## Alonso Buitano\n",
    "\n",
    "Colab Notebook"
   ]
  },
  {
   "cell_type": "markdown",
   "metadata": {
    "id": "S06jxQW11jjX"
   },
   "source": [
    "## 0. Install and import packages\n",
    "\n"
   ]
  },
  {
   "cell_type": "code",
   "execution_count": 1,
   "metadata": {
    "colab": {
     "base_uri": "https://localhost:8080/"
    },
    "collapsed": true,
    "id": "6I-F0X0LuwlB",
    "outputId": "302eafd3-9d93-48a0-fed7-6be3180a2d1c"
   },
   "outputs": [
    {
     "name": "stdout",
     "output_type": "stream",
     "text": [
      "Looking in indexes: https://pypi.org/simple, https://us-python.pkg.dev/colab-wheels/public/simple/\n",
      "Collecting highway-env\n",
      "  Cloning https://github.com/eleurent/highway-env to /tmp/pip-install-q98_jgu_/highway-env_0897e88cdf7840b9a4167d77c43efcae\n",
      "  Running command git clone --filter=blob:none --quiet https://github.com/eleurent/highway-env /tmp/pip-install-q98_jgu_/highway-env_0897e88cdf7840b9a4167d77c43efcae\n",
      "  Resolved https://github.com/eleurent/highway-env to commit abcef8da79dedf0dfdbe2db5b176d6f203366489\n",
      "  Installing build dependencies ... \u001b[?25l\u001b[?25hdone\n",
      "  Getting requirements to build wheel ... \u001b[?25l\u001b[?25hdone\n",
      "  Installing backend dependencies ... \u001b[?25l\u001b[?25hdone\n",
      "  Preparing metadata (pyproject.toml) ... \u001b[?25l\u001b[?25hdone\n",
      "Requirement already satisfied: scipy in /usr/local/lib/python3.8/dist-packages (from highway-env) (1.10.1)\n",
      "Collecting pygame>=2.0.2\n",
      "  Downloading pygame-2.2.0-cp38-cp38-manylinux_2_17_x86_64.manylinux2014_x86_64.whl (13.7 MB)\n",
      "\u001b[2K     \u001b[90m━━━━━━━━━━━━━━━━━━━━━━━━━━━━━━━━━━━━━━━━\u001b[0m \u001b[32m13.7/13.7 MB\u001b[0m \u001b[31m72.8 MB/s\u001b[0m eta \u001b[36m0:00:00\u001b[0m\n",
      "\u001b[?25hCollecting gymnasium>=0.27\n",
      "  Downloading gymnasium-0.27.1-py3-none-any.whl (883 kB)\n",
      "\u001b[2K     \u001b[90m━━━━━━━━━━━━━━━━━━━━━━━━━━━━━━━━━━━━━━\u001b[0m \u001b[32m883.7/883.7 KB\u001b[0m \u001b[31m45.1 MB/s\u001b[0m eta \u001b[36m0:00:00\u001b[0m\n",
      "\u001b[?25hRequirement already satisfied: pandas in /usr/local/lib/python3.8/dist-packages (from highway-env) (1.3.5)\n",
      "Requirement already satisfied: matplotlib in /usr/local/lib/python3.8/dist-packages (from highway-env) (3.5.3)\n",
      "Requirement already satisfied: numpy in /usr/local/lib/python3.8/dist-packages (from highway-env) (1.22.4)\n",
      "Collecting jax-jumpy>=0.2.0\n",
      "  Downloading jax_jumpy-0.2.0-py3-none-any.whl (11 kB)\n",
      "Requirement already satisfied: cloudpickle>=1.2.0 in /usr/local/lib/python3.8/dist-packages (from gymnasium>=0.27->highway-env) (2.2.1)\n",
      "Collecting gymnasium-notices>=0.0.1\n",
      "  Downloading gymnasium_notices-0.0.1-py3-none-any.whl (2.8 kB)\n",
      "Requirement already satisfied: importlib-metadata>=4.8.0 in /usr/local/lib/python3.8/dist-packages (from gymnasium>=0.27->highway-env) (6.0.0)\n",
      "Requirement already satisfied: typing-extensions>=4.3.0 in /usr/local/lib/python3.8/dist-packages (from gymnasium>=0.27->highway-env) (4.5.0)\n",
      "Requirement already satisfied: kiwisolver>=1.0.1 in /usr/local/lib/python3.8/dist-packages (from matplotlib->highway-env) (1.4.4)\n",
      "Requirement already satisfied: cycler>=0.10 in /usr/local/lib/python3.8/dist-packages (from matplotlib->highway-env) (0.11.0)\n",
      "Requirement already satisfied: pillow>=6.2.0 in /usr/local/lib/python3.8/dist-packages (from matplotlib->highway-env) (8.4.0)\n",
      "Requirement already satisfied: packaging>=20.0 in /usr/local/lib/python3.8/dist-packages (from matplotlib->highway-env) (23.0)\n",
      "Requirement already satisfied: pyparsing>=2.2.1 in /usr/local/lib/python3.8/dist-packages (from matplotlib->highway-env) (3.0.9)\n",
      "Requirement already satisfied: python-dateutil>=2.7 in /usr/local/lib/python3.8/dist-packages (from matplotlib->highway-env) (2.8.2)\n",
      "Requirement already satisfied: fonttools>=4.22.0 in /usr/local/lib/python3.8/dist-packages (from matplotlib->highway-env) (4.38.0)\n",
      "Requirement already satisfied: pytz>=2017.3 in /usr/local/lib/python3.8/dist-packages (from pandas->highway-env) (2022.7.1)\n",
      "Requirement already satisfied: zipp>=0.5 in /usr/local/lib/python3.8/dist-packages (from importlib-metadata>=4.8.0->gymnasium>=0.27->highway-env) (3.15.0)\n",
      "Requirement already satisfied: six>=1.5 in /usr/local/lib/python3.8/dist-packages (from python-dateutil>=2.7->matplotlib->highway-env) (1.15.0)\n",
      "Building wheels for collected packages: highway-env\n",
      "  Building wheel for highway-env (pyproject.toml) ... \u001b[?25l\u001b[?25hdone\n",
      "  Created wheel for highway-env: filename=highway_env-1.7.1-py3-none-any.whl size=103768 sha256=63c042dc19d42f7fdaa807a344ff234e42af1263af117a8f9e722ed6e38d2ade\n",
      "  Stored in directory: /tmp/pip-ephem-wheel-cache-tbtcr5hz/wheels/52/b6/c3/a74068904dcbba6e5a7a9600c7b74c09d385f7d213ecf5adf6\n",
      "Successfully built highway-env\n",
      "Installing collected packages: gymnasium-notices, pygame, jax-jumpy, gymnasium, highway-env\n",
      "Successfully installed gymnasium-0.27.1 gymnasium-notices-0.0.1 highway-env-1.7.1 jax-jumpy-0.2.0 pygame-2.2.0\n",
      "Looking in indexes: https://pypi.org/simple, https://us-python.pkg.dev/colab-wheels/public/simple/\n",
      "Collecting pyvirtualdisplay\n",
      "  Downloading PyVirtualDisplay-3.0-py3-none-any.whl (15 kB)\n",
      "Installing collected packages: pyvirtualdisplay\n",
      "Successfully installed pyvirtualdisplay-3.0\n",
      "Get:1 https://cloud.r-project.org/bin/linux/ubuntu focal-cran40/ InRelease [3,622 B]\n",
      "Get:2 http://security.ubuntu.com/ubuntu focal-security InRelease [114 kB]\n",
      "Ign:3 https://developer.download.nvidia.com/compute/machine-learning/repos/ubuntu2004/x86_64  InRelease\n",
      "Hit:4 https://developer.download.nvidia.com/compute/cuda/repos/ubuntu2004/x86_64  InRelease\n",
      "Hit:5 https://developer.download.nvidia.com/compute/machine-learning/repos/ubuntu2004/x86_64  Release\n",
      "Hit:6 http://archive.ubuntu.com/ubuntu focal InRelease\n",
      "Hit:7 http://ppa.launchpad.net/c2d4u.team/c2d4u4.0+/ubuntu focal InRelease\n",
      "Get:9 http://archive.ubuntu.com/ubuntu focal-updates InRelease [114 kB]\n",
      "Hit:10 http://ppa.launchpad.net/cran/libgit2/ubuntu focal InRelease\n",
      "Get:11 http://security.ubuntu.com/ubuntu focal-security/universe amd64 Packages [1,013 kB]\n",
      "Hit:12 http://ppa.launchpad.net/deadsnakes/ppa/ubuntu focal InRelease\n",
      "Get:13 http://archive.ubuntu.com/ubuntu focal-backports InRelease [108 kB]\n",
      "Hit:14 http://ppa.launchpad.net/graphics-drivers/ppa/ubuntu focal InRelease\n",
      "Get:15 http://archive.ubuntu.com/ubuntu focal-updates/main amd64 Packages [3,012 kB]\n",
      "Hit:16 http://ppa.launchpad.net/ubuntugis/ppa/ubuntu focal InRelease\n",
      "Get:17 http://archive.ubuntu.com/ubuntu focal-updates/multiverse amd64 Packages [31.2 kB]\n",
      "Get:18 http://archive.ubuntu.com/ubuntu focal-updates/restricted amd64 Packages [2,134 kB]\n",
      "Get:19 http://archive.ubuntu.com/ubuntu focal-updates/universe amd64 Packages [1,308 kB]\n",
      "Fetched 7,837 kB in 4s (2,066 kB/s)\n",
      "Reading package lists... Done\n",
      "Reading package lists... Done\n",
      "Building dependency tree       \n",
      "Reading state information... Done\n",
      "ffmpeg is already the newest version (7:4.2.7-0ubuntu0.1).\n",
      "The following additional packages will be installed:\n",
      "  freeglut3 libpython2-stdlib python2 python2-minimal\n",
      "Suggested packages:\n",
      "  python-tk python-numpy libgle3 python2-doc\n",
      "The following NEW packages will be installed:\n",
      "  freeglut3 libpython2-stdlib python-opengl python2 python2-minimal xvfb\n",
      "0 upgraded, 6 newly installed, 0 to remove and 22 not upgraded.\n",
      "Need to get 1,400 kB of archives.\n",
      "After this operation, 8,330 kB of additional disk space will be used.\n",
      "Get:1 http://archive.ubuntu.com/ubuntu focal/universe amd64 python2-minimal amd64 2.7.17-2ubuntu4 [27.5 kB]\n",
      "Get:2 http://archive.ubuntu.com/ubuntu focal/universe amd64 libpython2-stdlib amd64 2.7.17-2ubuntu4 [7,072 B]\n",
      "Get:3 http://archive.ubuntu.com/ubuntu focal/universe amd64 python2 amd64 2.7.17-2ubuntu4 [26.5 kB]\n",
      "Get:4 http://archive.ubuntu.com/ubuntu focal/universe amd64 freeglut3 amd64 2.8.1-3 [73.6 kB]\n",
      "Get:5 http://archive.ubuntu.com/ubuntu focal/universe amd64 python-opengl all 3.1.0+dfsg-2build1 [486 kB]\n",
      "Get:6 http://archive.ubuntu.com/ubuntu focal-updates/universe amd64 xvfb amd64 2:1.20.13-1ubuntu1~20.04.6 [780 kB]\n",
      "Fetched 1,400 kB in 2s (704 kB/s)\n",
      "Selecting previously unselected package python2-minimal.\n",
      "(Reading database ... 128215 files and directories currently installed.)\n",
      "Preparing to unpack .../python2-minimal_2.7.17-2ubuntu4_amd64.deb ...\n",
      "Unpacking python2-minimal (2.7.17-2ubuntu4) ...\n",
      "Selecting previously unselected package libpython2-stdlib:amd64.\n",
      "Preparing to unpack .../libpython2-stdlib_2.7.17-2ubuntu4_amd64.deb ...\n",
      "Unpacking libpython2-stdlib:amd64 (2.7.17-2ubuntu4) ...\n",
      "Setting up python2-minimal (2.7.17-2ubuntu4) ...\n",
      "Selecting previously unselected package python2.\n",
      "(Reading database ... 128244 files and directories currently installed.)\n",
      "Preparing to unpack .../python2_2.7.17-2ubuntu4_amd64.deb ...\n",
      "Unpacking python2 (2.7.17-2ubuntu4) ...\n",
      "Selecting previously unselected package freeglut3:amd64.\n",
      "Preparing to unpack .../freeglut3_2.8.1-3_amd64.deb ...\n",
      "Unpacking freeglut3:amd64 (2.8.1-3) ...\n",
      "Selecting previously unselected package python-opengl.\n",
      "Preparing to unpack .../python-opengl_3.1.0+dfsg-2build1_all.deb ...\n",
      "Unpacking python-opengl (3.1.0+dfsg-2build1) ...\n",
      "Selecting previously unselected package xvfb.\n",
      "Preparing to unpack .../xvfb_2%3a1.20.13-1ubuntu1~20.04.6_amd64.deb ...\n",
      "Unpacking xvfb (2:1.20.13-1ubuntu1~20.04.6) ...\n",
      "Setting up freeglut3:amd64 (2.8.1-3) ...\n",
      "Setting up libpython2-stdlib:amd64 (2.7.17-2ubuntu4) ...\n",
      "Setting up xvfb (2:1.20.13-1ubuntu1~20.04.6) ...\n",
      "Setting up python2 (2.7.17-2ubuntu4) ...\n",
      "Setting up python-opengl (3.1.0+dfsg-2build1) ...\n",
      "Processing triggers for man-db (2.9.1-1) ...\n",
      "Processing triggers for libc-bin (2.31-0ubuntu9.9) ...\n",
      "Looking in indexes: https://pypi.org/simple, https://us-python.pkg.dev/colab-wheels/public/simple/\n",
      "Collecting gpytorch\n",
      "  Downloading gpytorch-1.9.1-py3-none-any.whl (250 kB)\n",
      "\u001b[2K     \u001b[90m━━━━━━━━━━━━━━━━━━━━━━━━━━━━━━━━━━━━━━━\u001b[0m \u001b[32m250.9/250.9 KB\u001b[0m \u001b[31m5.4 MB/s\u001b[0m eta \u001b[36m0:00:00\u001b[0m\n",
      "\u001b[?25hRequirement already satisfied: scikit-learn in /usr/local/lib/python3.8/dist-packages (from gpytorch) (1.2.1)\n",
      "Collecting linear-operator>=0.2.0\n",
      "  Downloading linear_operator-0.3.0-py3-none-any.whl (155 kB)\n",
      "\u001b[2K     \u001b[90m━━━━━━━━━━━━━━━━━━━━━━━━━━━━━━━━━━━━━━\u001b[0m \u001b[32m155.6/155.6 KB\u001b[0m \u001b[31m17.0 MB/s\u001b[0m eta \u001b[36m0:00:00\u001b[0m\n",
      "\u001b[?25hRequirement already satisfied: scipy in /usr/local/lib/python3.8/dist-packages (from linear-operator>=0.2.0->gpytorch) (1.10.1)\n",
      "Requirement already satisfied: torch>=1.11 in /usr/local/lib/python3.8/dist-packages (from linear-operator>=0.2.0->gpytorch) (1.13.1+cu116)\n",
      "Requirement already satisfied: numpy>=1.17.3 in /usr/local/lib/python3.8/dist-packages (from scikit-learn->gpytorch) (1.22.4)\n",
      "Requirement already satisfied: joblib>=1.1.1 in /usr/local/lib/python3.8/dist-packages (from scikit-learn->gpytorch) (1.2.0)\n",
      "Requirement already satisfied: threadpoolctl>=2.0.0 in /usr/local/lib/python3.8/dist-packages (from scikit-learn->gpytorch) (3.1.0)\n",
      "Requirement already satisfied: typing-extensions in /usr/local/lib/python3.8/dist-packages (from torch>=1.11->linear-operator>=0.2.0->gpytorch) (4.5.0)\n",
      "Installing collected packages: linear-operator, gpytorch\n",
      "Successfully installed gpytorch-1.9.1 linear-operator-0.3.0\n",
      "Looking in indexes: https://pypi.org/simple, https://us-python.pkg.dev/colab-wheels/public/simple/\n",
      "Requirement already satisfied: moviepy in /usr/local/lib/python3.8/dist-packages (0.2.3.5)\n",
      "Requirement already satisfied: decorator<5.0,>=4.0.2 in /usr/local/lib/python3.8/dist-packages (from moviepy) (4.4.2)\n",
      "Requirement already satisfied: tqdm<5.0,>=4.11.2 in /usr/local/lib/python3.8/dist-packages (from moviepy) (4.64.1)\n",
      "Requirement already satisfied: imageio<3.0,>=2.1.2 in /usr/local/lib/python3.8/dist-packages (from moviepy) (2.9.0)\n",
      "Requirement already satisfied: numpy in /usr/local/lib/python3.8/dist-packages (from moviepy) (1.22.4)\n",
      "Requirement already satisfied: pillow in /usr/local/lib/python3.8/dist-packages (from imageio<3.0,>=2.1.2->moviepy) (8.4.0)\n",
      "Looking in indexes: https://pypi.org/simple, https://us-python.pkg.dev/colab-wheels/public/simple/\n",
      "Collecting imageio_ffmpeg\n",
      "  Downloading imageio_ffmpeg-0.4.8-py3-none-manylinux2010_x86_64.whl (26.9 MB)\n",
      "\u001b[2K     \u001b[90m━━━━━━━━━━━━━━━━━━━━━━━━━━━━━━━━━━━━━━━━\u001b[0m \u001b[32m26.9/26.9 MB\u001b[0m \u001b[31m32.4 MB/s\u001b[0m eta \u001b[36m0:00:00\u001b[0m\n",
      "\u001b[?25hInstalling collected packages: imageio_ffmpeg\n",
      "Successfully installed imageio_ffmpeg-0.4.8\n"
     ]
    }
   ],
   "source": [
    "# Install environment\n",
    "!pip install git+https://github.com/eleurent/highway-env#egg=highway-env\n",
    "!pip install pyvirtualdisplay\n",
    "!apt-get update\n",
    "\n",
    "# Install visualization and Gaussian processes dependencies \n",
    "!apt-get install -y xvfb python-opengl ffmpeg -y\n",
    "!pip install gpytorch\n",
    "!pip install moviepy\n",
    "!pip install imageio_ffmpeg"
   ]
  },
  {
   "cell_type": "code",
   "execution_count": 2,
   "metadata": {
    "id": "bzMSuJEOfviP",
    "pycharm": {
     "is_executing": false,
     "name": "#%%\n"
    }
   },
   "outputs": [],
   "source": [
    "# Import environment\n",
    "import gymnasium as gym\n",
    "import highway_env\n",
    "\n",
    "# Models and computation\n",
    "import torch\n",
    "import torch.nn as nn\n",
    "import torch.nn.functional as F\n",
    "import numpy as np\n",
    "from collections import namedtuple\n",
    "import gpytorch\n",
    "from gpytorch.constraints import GreaterThan, Positive, LessThan\n",
    "\n",
    "#suppress trivial warning from gpytorch\n",
    "import warnings\n",
    "warnings.filterwarnings(\"ignore\", message=\"CG terminated in 1000 iterations\")\n",
    "\n",
    "# Visualization\n",
    "import matplotlib\n",
    "import matplotlib.pyplot as plt\n",
    "%matplotlib inline\n",
    "from tqdm.notebook import trange\n",
    "from IPython import display as ipythondisplay\n",
    "from pyvirtualdisplay import Display\n",
    "from gym.wrappers import RecordVideo\n",
    "import base64\n",
    "\n",
    "# IO\n",
    "from pathlib import Path"
   ]
  },
  {
   "cell_type": "markdown",
   "metadata": {
    "id": "n2Bu_Pqop0E7"
   },
   "source": [
    "Here is a simple helper function for visualization of episodes directly in this Colab notebook:\n",
    "\n"
   ]
  },
  {
   "cell_type": "code",
   "execution_count": 3,
   "metadata": {
    "id": "so7yH4ucyB-3"
   },
   "outputs": [],
   "source": [
    "display = Display(visible=0, size=(1400, 900))\n",
    "display.start()\n",
    "\n",
    "def show_videos(path=\"videos\"):\n",
    "    html = []\n",
    "    for mp4 in Path(path).glob(\"*.mp4\"):\n",
    "        video_b64 = base64.b64encode(mp4.read_bytes())\n",
    "        html.append('''<video alt=\"{}\" autoplay\n",
    "                      loop controls style=\"height: 400px;\">\n",
    "                      <source src=\"data:video/mp4;base64,{}\" type=\"video/mp4\" />\n",
    "                 </video>'''.format(mp4, video_b64.decode('ascii')))\n",
    "    ipythondisplay.display(ipythondisplay.HTML(data=\"<br>\".join(html)))"
   ]
  },
  {
   "cell_type": "markdown",
   "metadata": {
    "id": "nFtBY6JSqPFa"
   },
   "source": [
    "Here we set up the parking environment"
   ]
  },
  {
   "cell_type": "code",
   "execution_count": 4,
   "metadata": {
    "id": "jKZt9Cb1rJ6n"
   },
   "outputs": [],
   "source": [
    "env = gym.make(\"parking-v0\", render_mode='rgb_array') #instantiate the parking environment \n",
    "VIDEO_PATH = './video' #designate the video path\n",
    "env = RecordVideo(env, video_folder='./videos', episode_trigger=lambda e: True, new_step_api=True)\n",
    "env.unwrapped.set_record_video_wrapper(env) #set up virtual monitor to store the video files at VIDEO_PATH dir"
   ]
  },
  {
   "cell_type": "markdown",
   "metadata": {
    "id": "bIjh7uN04ch8"
   },
   "source": [
    "To see the configuration, run the following:"
   ]
  },
  {
   "cell_type": "code",
   "execution_count": 5,
   "metadata": {
    "colab": {
     "base_uri": "https://localhost:8080/"
    },
    "id": "byyObpA14Dc3",
    "outputId": "35eac969-ce80-4493-dad2-4b4c8be6b717"
   },
   "outputs": [
    {
     "data": {
      "text/plain": [
       "{'observation': {'type': 'KinematicsGoal',\n",
       "  'features': ['x', 'y', 'vx', 'vy', 'cos_h', 'sin_h'],\n",
       "  'scales': [100, 100, 5, 5, 1, 1],\n",
       "  'normalize': False},\n",
       " 'action': {'type': 'ContinuousAction'},\n",
       " 'simulation_frequency': 15,\n",
       " 'policy_frequency': 5,\n",
       " 'other_vehicles_type': 'highway_env.vehicle.behavior.IDMVehicle',\n",
       " 'screen_width': 600,\n",
       " 'screen_height': 300,\n",
       " 'centering_position': [0.5, 0.5],\n",
       " 'scaling': 7,\n",
       " 'show_trajectories': False,\n",
       " 'render_agent': True,\n",
       " 'offscreen_rendering': False,\n",
       " 'manual_control': False,\n",
       " 'real_time_rendering': False,\n",
       " 'reward_weights': [1, 0.3, 0, 0, 0.02, 0.02],\n",
       " 'success_goal_reward': 0.12,\n",
       " 'collision_reward': -500,\n",
       " 'steering_range': 0.7853981633974483,\n",
       " 'duration': 100,\n",
       " 'controlled_vehicles': 1,\n",
       " 'vehicles_count': 0,\n",
       " 'add_walls': True}"
      ]
     },
     "execution_count": 5,
     "metadata": {},
     "output_type": "execute_result"
    }
   ],
   "source": [
    "env.config"
   ]
  },
  {
   "cell_type": "markdown",
   "metadata": {
    "id": "AujR0dDk0g7r"
   },
   "source": [
    "## 1.1. Running an episode with random actions\n",
    "\n",
    "The environment is a `GoalEnv` type, which means the agent receives a dictionary containing both the current `observation` and the `desired_goal` that conditions its policy. In this case, `observation` or `achieved_goal` is the current states and `desired_goal` are the target."
   ]
  },
  {
   "cell_type": "code",
   "execution_count": 6,
   "metadata": {
    "colab": {
     "base_uri": "https://localhost:8080/"
    },
    "id": "dl6FK9egzX4F",
    "outputId": "4de5023c-e120-411b-b794-0e76b2e30faa"
   },
   "outputs": [
    {
     "name": "stderr",
     "output_type": "stream",
     "text": [
      "/usr/local/lib/python3.8/dist-packages/gymnasium/utils/passive_env_checker.py:357: UserWarning: \u001b[33mWARN: No render fps was declared in the environment (env.metadata['render_fps'] is None or not defined), rendering may occur at inconsistent fps.\u001b[0m\n",
      "  logger.warn(\n"
     ]
    },
    {
     "name": "stdout",
     "output_type": "stream",
     "text": [
      "Observation format: OrderedDict([('observation', array([ 0.31849487,  0.022848  ,  1.11902165,  0.2309222 , -0.97936439,\n",
      "       -0.20210242])), ('achieved_goal', array([ 0.31849487,  0.022848  ,  1.11902165,  0.2309222 , -0.97936439,\n",
      "       -0.20210242])), ('desired_goal', array([-1.400000e-01,  1.400000e-01,  0.000000e+00,  0.000000e+00,\n",
      "        6.123234e-17,  1.000000e+00]))])\n",
      "****************************************************************************************************\n",
      "s_n and s^* are stored in obs variable, final state after 73 steps is:\n",
      "[ 0.31849487  0.022848    1.11902165  0.2309222  -0.97936439 -0.20210242]\n",
      "desired_goal (target) is:\n",
      "[-1.400000e-01  1.400000e-01  0.000000e+00  0.000000e+00  6.123234e-17\n",
      "  1.000000e+00]\n"
     ]
    }
   ],
   "source": [
    "#run an episode\n",
    "env.reset() #resetting the environment to start from a randomized state\n",
    "done = False\n",
    "\n",
    "rewards = []\n",
    "states = []\n",
    "i = 0\n",
    "n = 100\n",
    "while (not done and i < n):\n",
    "    action = env.action_space.sample() #use random actions\n",
    "    obs, reward, done, _, info = env.step(action)    # REPLACE THE THREE DOTS WITH YOUR OWN CODE\n",
    "\n",
    "    #store the state and reward in a list\n",
    "    rewards.append(reward) #store the reward in a list    \n",
    "    states.append(obs[\"observation\"]) # REPLACE THE THREE DOTS WITH YOUR OWN CODE \n",
    "    i += 1   \n",
    "env.close()\n",
    "\n",
    "#Which variable does store the achieved_goal or observation (s_n) and the desired_goal (s^*)?\n",
    "print(\"Observation format:\", obs) # REPLACE THE THREE DOTS WITH YOUR OWN CODE\n",
    "print(\"*\"*100)\n",
    "print(f\"s_n and s^* are stored in obs variable, final state after {len(states)} steps is:\")\n",
    "print(obs[\"observation\"])\n",
    "print(\"desired_goal (target) is:\")\n",
    "print(obs[\"desired_goal\"])"
   ]
  },
  {
   "cell_type": "code",
   "execution_count": 7,
   "metadata": {
    "colab": {
     "base_uri": "https://localhost:8080/",
     "height": 295
    },
    "id": "qI_B5kz7wotX",
    "outputId": "ebf0a7fe-d652-4d3f-e31e-384f7aea2833"
   },
   "outputs": [
    {
     "data": {
      "image/png": "[encoded data removed]",
      "text/plain": [
       "<Figure size 432x288 with 1 Axes>"
      ]
     },
     "metadata": {
      "needs_background": "light"
     },
     "output_type": "display_data"
    }
   ],
   "source": [
    "states_labels = env.config['observation']['features'] #the labels for the states\n",
    "\n",
    "plt.plot(states)\n",
    "plt.title(\"States over iterations (time)\")\n",
    "plt.xlabel(\"Timestep\")\n",
    "plt.ylabel(\"State\")\n",
    "plt.legend(states_labels)\n",
    "plt.show()"
   ]
  },
  {
   "cell_type": "markdown",
   "metadata": {
    "id": "uKiWG3bV1hnf"
   },
   "source": [
    "## 1.2. Reward definition\n",
    "\n",
    "The reward (or more specifically penalty, as it uses negative sign) here is the difference between the current state to the target (parking space)."
   ]
  },
  {
   "cell_type": "code",
   "execution_count": 8,
   "metadata": {
    "colab": {
     "base_uri": "https://localhost:8080/",
     "height": 332
    },
    "id": "3vgqUe2vzi_h",
    "outputId": "e8e22387-64a8-47b7-9cdc-b2f2af4b7d40"
   },
   "outputs": [
    {
     "name": "stdout",
     "output_type": "stream",
     "text": [
      "['x', 'y', 'vx', 'vy', 'cos_h', 'sin_h']\n",
      "[100, 100, 5, 5, 1, 1]\n"
     ]
    },
    {
     "data": {
      "image/png": "[encoded data removed]",
      "text/plain": [
       "<Figure size 432x288 with 1 Axes>"
      ]
     },
     "metadata": {
      "needs_background": "light"
     },
     "output_type": "display_data"
    }
   ],
   "source": [
    "#Negative reward \n",
    "states_labels = env.config['observation']['features'] #the labels for the states\n",
    "states_scales = env.config['observation']['scales'] #the scales for the states (if needed for plotting)\n",
    "\n",
    "print(states_labels)\n",
    "print(states_scales)\n",
    "§\n",
    "weights = np.array([1, 0.3, 0, 0, 0.02, 0.02]) #weights\n",
    "weighted_norm = - np.sqrt(np.sum(np.abs(states - obs[\"desired_goal\"])*weights, axis=-1)) # REPLACE THE THREE DOTS WITH YOUR OWN CODE\n",
    "\n",
    "#plot the weighted norm over time\n",
    "# REPLACE THE THREE DOTS WITH YOUR OWN CODE\n",
    "plt.plot(weighted_norm)\n",
    "plt.title(\"Reward over time\")\n",
    "plt.xlabel(\"Timestep\")\n",
    "plt.ylabel(\"Reward\")\n",
    "plt.show() \n"
   ]
  },
  {
   "cell_type": "code",
   "execution_count": 9,
   "metadata": {
    "colab": {
     "base_uri": "https://localhost:8080/",
     "height": 295
    },
    "id": "a7fgHmrfZOOV",
    "outputId": "a212c3a8-a3d9-4ffd-b458-14a1ae5e1626"
   },
   "outputs": [
    {
     "data": {
      "image/png": "[encoded data removed]",
      "text/plain": [
       "<Figure size 432x288 with 1 Axes>"
      ]
     },
     "metadata": {
      "needs_background": "light"
     },
     "output_type": "display_data"
    }
   ],
   "source": [
    "#not needed, but as hinted: \n",
    "#might be useful to compare the calculated weighted norm with the actual reward\n",
    "#they should be the same if your calculation is correct\n",
    "\n",
    "#Reward comparison\n",
    "plt.plot(weighted_norm, lw=6, label=\"manually calculated\")\n",
    "plt.plot(rewards[:-1], lw=2, label=\"reward from the environment\") #last element not included for case when agent reaches boundary (very large value).\n",
    "plt.title('Reward comparison')\n",
    "plt.xlabel('Timestep')\n",
    "plt.legend()\n",
    "plt.show()"
   ]
  },
  {
   "cell_type": "markdown",
   "metadata": {
    "id": "gAH0JQDi2doG"
   },
   "source": [
    "##1.3 Final reward and vehicle trajectory\n",
    "\n"
   ]
  },
  {
   "cell_type": "code",
   "execution_count": 10,
   "metadata": {
    "colab": {
     "base_uri": "https://localhost:8080/",
     "height": 332
    },
    "id": "wWbqoBjs3v6-",
    "outputId": "e6f04746-2b08-45b9-9f05-9e859d5fc0c9"
   },
   "outputs": [
    {
     "name": "stdout",
     "output_type": "stream",
     "text": [
      "Final reward at 73 timesteps: -500.73298690378186 (collision)\n",
      "Reward at 72 timesteps: -0.7330224497721212\n"
     ]
    },
    {
     "data": {
      "image/png": "[encoded data removed]",
      "text/plain": [
       "<Figure size 432x288 with 1 Axes>"
      ]
     },
     "metadata": {
      "needs_background": "light"
     },
     "output_type": "display_data"
    }
   ],
   "source": [
    "# final reward\n",
    "print(f\"Final reward at {len(rewards)} timesteps: {rewards[-1]} (collision)\")\n",
    "print(f\"Reward at {len(rewards)-1} timesteps: {rewards[-2]}\") # REPLACE THE THREE DOTS WITH YOUR OWN CODE\n",
    "\n",
    "# Plot the trajectory of the vehicle (x and y position over timestep) \n",
    "plt.plot(np.array(states)[:,0], np.array(states)[:,1]) # REPLACE THE THREE DOTS WITH YOUR OWN CODE\n",
    "plt.xlabel(\"x\")\n",
    "plt.ylabel(\"y\")\n",
    "plt.title(\"x and y position over timestep\")\n",
    "# plt.xlim(-10, 10)\n",
    "# plt.ylim(-5, 5)\n",
    "plt.show()"
   ]
  },
  {
   "cell_type": "code",
   "execution_count": null,
   "metadata": {
    "colab": {
     "base_uri": "https://localhost:8080/",
     "height": 422
    },
    "id": "KvPugEy109pb",
    "outputId": "f0efd36e-ac21-421a-ae69-f1f07d3aa579"
   },
   "outputs": [],
   "source": [
    "#load the video of the episode\n",
    "show_videos('./videos')"
   ]
  },
  {
   "cell_type": "markdown",
   "metadata": {
    "id": "tIkHaqGd6qNG"
   },
   "source": [
    "### 2.1 Build a dynamics model with NN\n"
   ]
  },
  {
   "cell_type": "code",
   "execution_count": 12,
   "metadata": {
    "id": "0M-zVcBNAeZZ"
   },
   "outputs": [],
   "source": [
    "# reinitialize the env without recordvideo\n",
    "env = gym.make(\"parking-v0\", render_mode='rgb_array')"
   ]
  },
  {
   "cell_type": "code",
   "execution_count": 13,
   "metadata": {
    "id": "IRt5zS-t6o2h"
   },
   "outputs": [],
   "source": [
    "#NN structure\n",
    "class NN_DynamicsModel(nn.Module):\n",
    "    name = 'NN'\n",
    "    def __init__(self, state_size, action_size, hidden_size, dt):\n",
    "        super().__init__()\n",
    "        self.state_size, self.action_size, self.dt = state_size, action_size, dt\n",
    "        self.layer1 = nn.Linear(state_size + action_size, hidden_size)\n",
    "        self.layer2 = nn.Linear(hidden_size, state_size)\n",
    "\n",
    "    def forward(self, x, u):\n",
    "        \"\"\"\n",
    "            Predict x_{t+1} = f(x_t, u_t)\n",
    "        :param x: a batch of states\n",
    "        :param u: a batch of actions\n",
    "        :return x_{t+1}\n",
    "        \"\"\"\n",
    "        xu = torch.cat((x, u), -1)\n",
    "        xu = F.relu(self.layer1(xu))\n",
    "        dx = self.layer2(xu).squeeze()\n",
    "        \n",
    "        # note that our prediction is delta x: dx = x_{t+1} - x_{t}, \n",
    "        # so how to obtain x_{t+1}?\n",
    "\n",
    "        x_next = x + dx*self.dt # REPLACE THE THREE DOTS WITH YOUR OWN CODE\n",
    "        return x_next"
   ]
  },
  {
   "cell_type": "markdown",
   "metadata": {
    "id": "nU_-UHbAa5no"
   },
   "source": [
    "Build NN dynamics model:"
   ]
  },
  {
   "cell_type": "code",
   "execution_count": 14,
   "metadata": {
    "id": "hl-SR6Oea3Yr"
   },
   "outputs": [],
   "source": [
    "#parameters to instantiate the NN model\n",
    "state_size = env.observation_space.spaces[\"observation\"].shape[0] #observation dimension\n",
    "action_size = env.action_space.shape[0] #action dimension\n",
    "hidden_size = 128 #width of the hidden layer\n",
    "timestep_duration = 1/env.unwrapped.config[\"policy_frequency\"] #timestep duration of the environment\n",
    "\n",
    "#instatiate the NN model\n",
    "dynamics_nn = NN_DynamicsModel(state_size=state_size,\n",
    "                         action_size=action_size,\n",
    "                         hidden_size=hidden_size,\n",
    "                         dt=timestep_duration)  # REPLACE THE THREE DOTS WITH YOUR OWN CODE"
   ]
  },
  {
   "cell_type": "code",
   "execution_count": 15,
   "metadata": {
    "id": "eXk9J83LhOFX"
   },
   "outputs": [],
   "source": [
    "#run a full episode with random actions and store the untrained nn predictions\n",
    "state_data = []\n",
    "pred_data = []\n",
    "reward_data = []\n",
    "\n",
    "#initialize the environment\n",
    "env.reset()\n",
    "done = False\n",
    "\n",
    "while not done:\n",
    "    action = env.action_space.sample()\n",
    "    obs, reward, done, _, info = env.step(action)  # REPLACE THE THREE DOTS WITH YOUR OWN CODE\n",
    "\n",
    "    state = obs[\"observation\"]  # REPLACE THE THREE DOTS WITH YOUR OWN CODE\n",
    "    \n",
    "    pred = dynamics_nn(torch.Tensor(state), torch.Tensor(action)).detach().numpy()\n",
    "\n",
    "    #store the data\n",
    "    state_data.append(state)\n",
    "    pred_data.append(pred)\n",
    "    reward_data.append(reward)  # REPLACE THE THREE DOTS WITH YOUR OWN CODE\n",
    "\n",
    "env.close()"
   ]
  },
  {
   "cell_type": "code",
   "execution_count": 16,
   "metadata": {
    "colab": {
     "base_uri": "https://localhost:8080/",
     "height": 573
    },
    "id": "qgXFaE80hrIV",
    "outputId": "9215fcc3-bc51-47bb-c7fc-a2273b777b20"
   },
   "outputs": [
    {
     "data": {
      "image/png": "[encoded data removed]",
      "text/plain": [
       "<Figure size 432x288 with 1 Axes>"
      ]
     },
     "metadata": {
      "needs_background": "light"
     },
     "output_type": "display_data"
    },
    {
     "data": {
      "image/png": "[encoded data removed]",
      "text/plain": [
       "<Figure size 432x288 with 1 Axes>"
      ]
     },
     "metadata": {
      "needs_background": "light"
     },
     "output_type": "display_data"
    }
   ],
   "source": [
    "# Plot the true and predicted states\n",
    "plt.plot(state_data)\n",
    "plt.title(\"True states over iterations (time)\")\n",
    "plt.xlabel(\"Timestep\")\n",
    "plt.ylabel(\"State\")\n",
    "plt.legend(states_labels)\n",
    "plt.show()\n",
    "\n",
    "plt.plot(pred_data)\n",
    "plt.title(\"Predicted states over iterations (time)\")\n",
    "plt.xlabel(\"Timestep\")\n",
    "plt.ylabel(\"State\")\n",
    "plt.legend(states_labels)\n",
    "plt.show()"
   ]
  },
  {
   "cell_type": "markdown",
   "metadata": {
    "id": "I2PuVAvyfvib",
    "pycharm": {
     "name": "#%% md\n"
    }
   },
   "source": [
    "## 2.2 Model training\n",
    "\n",
    "First, we randomly interact with the environment to produce a batch of experiences.\n",
    "$$D = \\{s_t, a_t, s_{t+1}\\}_{t\\in[1,N]}$$"
   ]
  },
  {
   "cell_type": "code",
   "execution_count": 17,
   "metadata": {
    "id": "tvUYSL7sfvie",
    "pycharm": {
     "is_executing": false,
     "name": "#%%\n"
    }
   },
   "outputs": [],
   "source": [
    "#functions to create experiences dataset D\n",
    "\n",
    "Transition = namedtuple('Transition', ['state', 'action', 'next_state'])\n",
    "\n",
    "def collect_interaction_data(env, size=2000, action_repeat=1):\n",
    "    data, done = [], True\n",
    "    for _ in trange(size):\n",
    "        action = env.action_space.sample() #random sample actions\n",
    "        for _ in range(action_repeat):\n",
    "            previous_obs = env.reset()[0] if done else obs\n",
    "            obs, reward, done, _, info = env.step(action)\n",
    "            data.append(Transition(torch.Tensor(previous_obs[\"observation\"]),\n",
    "                                   torch.Tensor(action),\n",
    "                                   torch.Tensor(obs[\"observation\"])))\n",
    "    return data\n",
    "\n",
    "def transpose_batch(batch):\n",
    "    return Transition(*map(torch.stack, zip(*batch)))"
   ]
  },
  {
   "cell_type": "code",
   "execution_count": 18,
   "metadata": {
    "colab": {
     "base_uri": "https://localhost:8080/",
     "height": 124,
     "referenced_widgets": [
      "ffffe084c6e74b55bccc0290110687c9",
      "1bd76569a2f84ca8bf4bb23072ad658f",
      "72c0eb5ee86b46b0bffc15b756df5a0e",
      "da54183229c947a2b3e502bbe7c59d29",
      "ee900fd8b5a541b993a2d72c3c1b3a2a",
      "a1835f1c18924e4888b6156d7b30196d",
      "45eb8a80ec3c42c191596efd1550fc32",
      "a13cbafca0ee43dd965450fa1c63cd0c",
      "3c644b0a5f06425c963d2b51d89efe93",
      "82cfafa6d1c04a1ca0d3b947091bb796",
      "de6e40c839234514b047041da5224463"
     ]
    },
    "id": "b39DfwWJrSKd",
    "outputId": "7846362c-fa57-411e-8fbf-55cc8d677861"
   },
   "outputs": [
    {
     "data": {
      "application/vnd.jupyter.widget-view+json": {
       "model_id": "ffffe084c6e74b55bccc0290110687c9",
       "version_major": 2,
       "version_minor": 0
      },
      "text/plain": [
       "  0%|          | 0/2000 [00:00<?, ?it/s]"
      ]
     },
     "metadata": {},
     "output_type": "display_data"
    },
    {
     "name": "stdout",
     "output_type": "stream",
     "text": [
      "Sample transition: Transition(state=tensor([ 0.0000,  0.0000,  0.0000, -0.0000,  0.7111, -0.7031]), action=tensor([ 0.1285, -0.5921]), next_state=tensor([ 4.4413e-05, -7.3236e-05,  1.8258e-02, -1.8080e-02,  7.1055e-01,\n",
      "        -7.0365e-01]))\n",
      "Buffer size: 2000\n"
     ]
    }
   ],
   "source": [
    "size = 2000  # REPLACE THE THREE DOTS WITH YOUR OWN CODE\n",
    "\n",
    "data = collect_interaction_data(env, size=size)\n",
    "\n",
    "print(\"Sample transition:\", data[0])\n",
    "print(\"Buffer size:\", len(data))"
   ]
  },
  {
   "cell_type": "code",
   "execution_count": 19,
   "metadata": {
    "id": "NwCDLD1wfvi2",
    "pycharm": {
     "is_executing": false,
     "name": "#%%\n"
    }
   },
   "outputs": [],
   "source": [
    "# Split dataset into training and validation\n",
    "\n",
    "train_ratio = 0.7 # REPLACE THE THREE DOTS WITH YOUR OWN CODE\n",
    "\n",
    "train_data, validation_data = data[:int(train_ratio * len(data))], \\\n",
    "                              data[int(train_ratio * len(data)):]"
   ]
  },
  {
   "cell_type": "code",
   "execution_count": 20,
   "metadata": {
    "id": "H4W_BruVsD-Z"
   },
   "outputs": [],
   "source": [
    "# functions to train the model\n",
    "\n",
    "def compute_loss(model, data_t, loss_func = torch.nn.MSELoss()):\n",
    "    states, actions, next_states = data_t\n",
    "    predictions = model(states, actions)\n",
    "    return loss_func(predictions, next_states)\n",
    "\n",
    "def train(model, train_data, validation_data, epochs=1500, learning_rate = 0.01):\n",
    "    optimizer = torch.optim.Adam(model.parameters(), lr=learning_rate)\n",
    "    train_data_t = transpose_batch(train_data)\n",
    "    validation_data_t = transpose_batch(validation_data)\n",
    "    losses = np.full((epochs, 2), np.nan)\n",
    "\n",
    "    for epoch in trange(epochs):\n",
    "        # Compute loss gradient and step optimizer\n",
    "        loss = compute_loss(model, train_data_t)\n",
    "        validation_loss = compute_loss(model, validation_data_t)\n",
    "        losses[epoch] = [loss.detach().numpy(), validation_loss.detach().numpy()]\n",
    "        optimizer.zero_grad()\n",
    "        loss.backward()\n",
    "        optimizer.step()\n",
    "\n",
    "    # Plot losses\n",
    "    plt.plot(losses)\n",
    "    plt.title(\"Loss vs epochs\")\n",
    "    plt.yscale(\"log\")\n",
    "    plt.xlabel(\"epochs\")\n",
    "    plt.ylabel(\"loss\")\n",
    "    plt.legend([\"training\", \"validation\"])\n",
    "    plt.show()"
   ]
  },
  {
   "cell_type": "markdown",
   "metadata": {
    "id": "wxNFrBccbF9T"
   },
   "source": [
    "Training the model"
   ]
  },
  {
   "cell_type": "code",
   "execution_count": 21,
   "metadata": {
    "colab": {
     "base_uri": "https://localhost:8080/",
     "height": 327,
     "referenced_widgets": [
      "437eae4afc34480ca3aafc03806791ab",
      "e2ad6b7bbcf04ba18f7c9d995a7a999c",
      "c7aaa436aea4426a98474ed2c3785774",
      "4437b4e821f24edeb8bd7e2688f63aa5",
      "fff7a8b638244c728c06944260edb908",
      "f7226ba6b6904194a58ec110607d9e4f",
      "1b93e119600640bd83718acfc5f4b69e",
      "4506a12222a649a99da1b023f0d88c7d",
      "a1950257f7764e93a7b2bfd76f92c6a9",
      "e75762a24eee43149287947e34d2db32",
      "13eaba45239c4be89cc12e172231469f"
     ]
    },
    "id": "npTKFvkJ1RKt",
    "outputId": "23c57798-765f-4230-c819-ce87309b5267"
   },
   "outputs": [
    {
     "data": {
      "application/vnd.jupyter.widget-view+json": {
       "model_id": "437eae4afc34480ca3aafc03806791ab",
       "version_major": 2,
       "version_minor": 0
      },
      "text/plain": [
       "  0%|          | 0/1000 [00:00<?, ?it/s]"
      ]
     },
     "metadata": {},
     "output_type": "display_data"
    },
    {
     "data": {
      "image/png": "[encoded data removed]",
      "text/plain": [
       "<Figure size 432x288 with 1 Axes>"
      ]
     },
     "metadata": {
      "needs_background": "light"
     },
     "output_type": "display_data"
    }
   ],
   "source": [
    "num_epochs = 1000 # REPLACE THE THREE DOTS WITH YOUR OWN CODE\n",
    "learning_rate = 0.01 # REPLACE THE THREE DOTS WITH YOUR OWN CODE\n",
    "train(dynamics_nn, train_data, validation_data, epochs=num_epochs, learning_rate = learning_rate)"
   ]
  },
  {
   "cell_type": "markdown",
   "metadata": {
    "id": "izS9PQzl6KKg"
   },
   "source": [
    "## 2.3 Predictions of the trained NN"
   ]
  },
  {
   "cell_type": "code",
   "execution_count": 22,
   "metadata": {
    "id": "KE8uwGB-jOX3"
   },
   "outputs": [],
   "source": [
    "dynamics_nn.eval() #set the trained model for use\n",
    "\n",
    "#run a full episode with random actions and store the trained nn predictions\n",
    "state_data = []\n",
    "pred_data = []\n",
    "reward_data = []\n",
    "\n",
    "#initialize the environment\n",
    "env.reset()\n",
    "done = False\n",
    "\n",
    "while not done:\n",
    "    action = env.action_space.sample()\n",
    "    obs, reward, done, _, info = env.step(action)\n",
    "\n",
    "    state = obs[\"observation\"]  # REPLACE THE THREE DOTS WITH YOUR OWN CODE\n",
    "    \n",
    "    pred = dynamics_nn(torch.Tensor(state), torch.Tensor(action)).detach().numpy()\n",
    "\n",
    "    #store the data\n",
    "    state_data.append(state)\n",
    "    pred_data.append(pred)\n",
    "    reward_data.append(reward)  # REPLACE THE THREE DOTS WITH YOUR OWN CODE\n",
    "\n",
    "env.close()"
   ]
  },
  {
   "cell_type": "code",
   "execution_count": 23,
   "metadata": {
    "colab": {
     "base_uri": "https://localhost:8080/",
     "height": 573
    },
    "id": "s3wLJdo5vnTB",
    "outputId": "0380a5b7-4f2b-4c76-a6ff-c2fa8527a159"
   },
   "outputs": [
    {
     "data": {
      "image/png": "[encoded data removed]",
      "text/plain": [
       "<Figure size 432x288 with 1 Axes>"
      ]
     },
     "metadata": {
      "needs_background": "light"
     },
     "output_type": "display_data"
    },
    {
     "data": {
      "image/png": "[encoded data removed]",
      "text/plain": [
       "<Figure size 432x288 with 1 Axes>"
      ]
     },
     "metadata": {
      "needs_background": "light"
     },
     "output_type": "display_data"
    }
   ],
   "source": [
    "# Plot the true and predicted states\n",
    "\n",
    "# Plot the true and predicted states\n",
    "plt.plot(state_data)\n",
    "plt.title(\"True states over iterations (time)\")\n",
    "plt.xlabel(\"Timestep\")\n",
    "plt.ylabel(\"State\")\n",
    "plt.legend(states_labels)\n",
    "plt.show()\n",
    "\n",
    "plt.plot(pred_data)\n",
    "plt.title(\"Predicted states over iterations (time)\")\n",
    "plt.xlabel(\"Timestep\")\n",
    "plt.ylabel(\"State\")\n",
    "plt.legend(states_labels)\n",
    "plt.show()"
   ]
  },
  {
   "cell_type": "markdown",
   "metadata": {
    "id": "NXBODCuYfvi_",
    "pycharm": {
     "name": "#%% md\n"
    }
   },
   "source": [
    "## CEM planner\n"
   ]
  },
  {
   "cell_type": "code",
   "execution_count": 24,
   "metadata": {
    "id": "cRubRv9buNXj"
   },
   "outputs": [],
   "source": [
    "#functions to help build the  CEM method\n",
    "def predict_trajectory_actionlist(state, actions, model, action_repeat=1):\n",
    "    states = []\n",
    "    for action in actions:\n",
    "        for _ in range(action_repeat):\n",
    "            if model.name == 'GP':\n",
    "                state = model(torch.cat((state, action), -1)).mean\n",
    "            else: \n",
    "                state = model(state, action)\n",
    "            states.append(state)\n",
    "    return torch.stack(states, dim=0)\n",
    "\n",
    "def reward_model(states, goal, gamma=None):\n",
    "    \"\"\"\n",
    "        The reward is a weighted L1-norm between the state and a goal\n",
    "    :param Tensor states: a batch of states. shape: [batch_size, state_size].\n",
    "    :param Tensor goal: a goal state. shape: [state_size].\n",
    "    :param float gamma: a discount factor\n",
    "    \"\"\"\n",
    "    goal = goal.expand(states.shape)\n",
    "    reward_weigths = torch.Tensor(env.unwrapped.config[\"reward_weights\"])\n",
    "    rewards = -torch.pow(torch.norm((states-goal)*reward_weigths, p=1, dim=-1), 0.5)\n",
    "    if gamma:\n",
    "        time = torch.arange(rewards.shape[0], dtype=torch.float).unsqueeze(-1).expand(rewards.shape)\n",
    "        rewards *= torch.pow(gamma, time)\n",
    "    return rewards"
   ]
  },
  {
   "cell_type": "markdown",
   "metadata": {
    "id": "Q5D6W4p7fvjI"
   },
   "source": [
    "We now use the learnt dynamics model $f_\\theta$ for planning.\n",
    "In order to solve the optimal control problem, we use a sampling-based optimization algorithm: the **Cross-Entropy Method** (`CEM`). It is an optimization algorithm applicable to problems that are both **combinatorial** and **continuous**, which is our case: find the best performing sequence of actions."
   ]
  },
  {
   "cell_type": "code",
   "execution_count": 25,
   "metadata": {
    "id": "bzPKYg23fvjL",
    "pycharm": {
     "is_executing": false,
     "name": "#%%\n"
    }
   },
   "outputs": [],
   "source": [
    "def cem_planner(state, goal, action_size, model, horizon=5, population=10, selection=5, iterations=5):\n",
    "    state = state.expand(population, -1)\n",
    "    action_mean = torch.zeros(horizon, 1, action_size)\n",
    "    action_std = torch.ones(horizon, 1, action_size)\n",
    "\n",
    "    for iter_num in range(iterations):\n",
    "        # 1. Draw sample sequences of actions from a normal distribution\n",
    "        actions = action_mean + action_std * torch.randn(horizon, population, action_size)\n",
    "        actions = torch.clamp(actions, min=env.action_space.low.min(), max=env.action_space.high.max())\n",
    "        states = predict_trajectory_actionlist(state, actions, model, action_repeat=horizon)\n",
    "\n",
    "        # 2. Fit the distribution to the top-k performing sequences\n",
    "        returns = reward_model(states, goal).sum(dim=0)\n",
    "        _, best = returns.topk(selection, largest=True, sorted=False)\n",
    "        best_actions = actions[:, best, :]\n",
    "\n",
    "        action_std = best_actions.std(dim=1, unbiased=False, keepdim=True)\n",
    "        action_mean = best_actions.mean(dim=1, keepdim=True)  # REPLACE THE THREE DOTS WITH YOUR OWN CODE\n",
    "\n",
    "    return action_mean[0].squeeze(dim=0)\n"
   ]
  },
  {
   "cell_type": "markdown",
   "metadata": {
    "id": "nKK-WkDh0z_Q"
   },
   "source": [
    "Example of using the CEM to select actions:"
   ]
  },
  {
   "cell_type": "code",
   "execution_count": 26,
   "metadata": {
    "colab": {
     "base_uri": "https://localhost:8080/"
    },
    "id": "kBxoEeqv7DMn",
    "outputId": "c0dc9f9a-28d0-4f81-c4a3-7d77438463ab"
   },
   "outputs": [
    {
     "name": "stdout",
     "output_type": "stream",
     "text": [
      "Planned action: tensor([-0.0402,  0.3370])\n"
     ]
    }
   ],
   "source": [
    "# Run the planner on a sample transition\n",
    "\n",
    "obs = env.reset()[0] #reset the environment to start\n",
    "\n",
    "#run CEM to get actions using NN dynamics model\n",
    "H = 3 #planning horizon\n",
    "K = 10 #population size\n",
    "\n",
    "action_nn = cem_planner(torch.Tensor(obs[\"observation\"]),\n",
    "                     torch.Tensor(obs[\"desired_goal\"]),\n",
    "                     env.action_space.shape[0], dynamics_nn,\n",
    "                     horizon=H, population=K)\n",
    "\n",
    "print(\"Planned action:\", action_nn)"
   ]
  },
  {
   "cell_type": "markdown",
   "metadata": {
    "id": "3sw6vxTu0-pL"
   },
   "source": [
    "## 2.4. CEM with NN model"
   ]
  },
  {
   "cell_type": "code",
   "execution_count": 27,
   "metadata": {
    "colab": {
     "base_uri": "https://localhost:8080/"
    },
    "id": "g1UXtD3fuwla",
    "outputId": "333d2a88-e5cb-45ca-849c-6a9b7aa5d87a"
   },
   "outputs": [
    {
     "name": "stdout",
     "output_type": "stream",
     "text": [
      "1\n",
      "2\n",
      "3\n",
      "4\n",
      "5\n",
      "6\n",
      "7\n",
      "8\n",
      "9\n",
      "10\n",
      "11\n",
      "12\n",
      "13\n",
      "14\n",
      "15\n",
      "16\n",
      "17\n",
      "18\n",
      "19\n",
      "20\n"
     ]
    }
   ],
   "source": [
    "#run an episode for nn\n",
    "\n",
    "#run an episode with random actions for at most n time steps\n",
    "n = 20 # REPLACE THE THREE DOTS WITH YOUR OWN CODE\n",
    "H = 5 # REPLACE THE THREE DOTS WITH YOUR OWN CODE\n",
    "K = 10 # REPLACE THE THREE DOTS WITH YOUR OWN CODE\n",
    "\n",
    "import time\n",
    "\n",
    "nn_time = []\n",
    "state_data_nn = []\n",
    "reward_data_nn = []\n",
    "\n",
    "obs = env.reset()[0]\n",
    "done = False\n",
    "i=0 #iterates\n",
    "\n",
    "while (not done and i < n) :\n",
    "\n",
    "    #use CEM with NN model to select actions\n",
    "    start = time.time()\n",
    "    state = obs[\"observation\"]\n",
    "    target = obs[\"desired_goal\"]\n",
    "    # REPLACE THE THREE DOTS WITH YOUR OWN CODE\n",
    "    action = cem_planner(torch.Tensor(state),\n",
    "                     torch.Tensor(target),\n",
    "                     env.action_space.shape[0], dynamics_nn,\n",
    "                     horizon=H, population=K)\n",
    "    obs, reward, done, _, info = env.step(action.numpy())\n",
    "\n",
    "    end = time.time()\n",
    "    #store the data\n",
    "    nn_time.append(end-start)\n",
    "    state_data_nn.append(obs[\"observation\"])\n",
    "    reward_data_nn.append(reward)\n",
    "\n",
    "    i+=1\n",
    "    print(i, end=\"\\n\")\n",
    "    \n",
    "env.close()\n"
   ]
  },
  {
   "cell_type": "code",
   "execution_count": 28,
   "metadata": {
    "colab": {
     "base_uri": "https://localhost:8080/",
     "height": 295
    },
    "id": "y8tAbKYR_MAV",
    "outputId": "42f49397-051b-47b4-a66d-c947f2e13b32"
   },
   "outputs": [
    {
     "data": {
      "image/png": "[encoded data removed]",
      "text/plain": [
       "<Figure size 432x288 with 1 Axes>"
      ]
     },
     "metadata": {
      "needs_background": "light"
     },
     "output_type": "display_data"
    }
   ],
   "source": [
    "# Plot the rewards over time step\n",
    "\n",
    "plt.plot(reward_data_nn)\n",
    "plt.title(\"Reward over time\")\n",
    "plt.xlabel(\"Timestep\")\n",
    "plt.ylabel(\"Reward\")\n",
    "plt.show() "
   ]
  },
  {
   "cell_type": "markdown",
   "metadata": {
    "id": "eDcRWzl36xO7"
   },
   "source": [
    "### 3.1 Build a dynamics model with a Gaussian process"
   ]
  },
  {
   "cell_type": "code",
   "execution_count": 29,
   "metadata": {
    "id": "6lMVTo1KaGM3"
   },
   "outputs": [],
   "source": [
    "#GP model structure\n",
    "#More details are available in gpytorch documentation: https://docs.gpytorch.ai/en/stable/\n",
    "\n",
    "import gpytorch\n",
    "from torch.utils.data import DataLoader\n",
    "\n",
    "class MultitaskGPModel(gpytorch.models.ExactGP):\n",
    "    name = 'GP'\n",
    "    def __init__(self, train_x, train_y, likelihood, num_tasks=6): # number tasks is equivalent to the output dim\n",
    "        super(MultitaskGPModel, self).__init__(train_x, train_y, likelihood)\n",
    "        self.num_tasks = num_tasks\n",
    "        self.mean_module = gpytorch.means.MultitaskMean(\n",
    "            gpytorch.means.ConstantMean(), num_tasks=num_tasks\n",
    "        )\n",
    "        self.covar_module = gpytorch.kernels.MultitaskKernel(\n",
    "            gpytorch.kernels.RBFKernel(), num_tasks=num_tasks, rank=1\n",
    "        )\n",
    "\n",
    "    def forward(self, x):\n",
    "        mean_x = self.mean_module(x)\n",
    "        covar_x = self.covar_module(x)\n",
    "        dists = gpytorch.distributions.MultitaskMultivariateNormal(mean_x + x[:,:self.num_tasks], covar_x)\n",
    "        return dists"
   ]
  },
  {
   "cell_type": "markdown",
   "metadata": {
    "id": "su_vEjfjaOPU"
   },
   "source": [
    "Build data pre-processing and prediction functions"
   ]
  },
  {
   "cell_type": "code",
   "execution_count": 30,
   "metadata": {
    "id": "FwTCXvwpaKkk"
   },
   "outputs": [],
   "source": [
    "#functions to prepare the data for GP training\n",
    "\n",
    "def GP_dataloader_process(data, train_ratio = 0.3):\n",
    "    # Split dataset into training and validation\n",
    "    data_n = transpose_batch(data)\n",
    "    inputs = torch.cat((data_n[0], data_n[1]), dim=1)\n",
    "    targets = data_n[2]\n",
    "    data_for_loader = []\n",
    "\n",
    "    for i in range(inputs.shape[0]):\n",
    "      data_for_loader.append([inputs[i], targets[i]])\n",
    "\n",
    "    # prepare data for loader\n",
    "    train_data_for_loader, validation_data_for_loader = data_for_loader[:int(train_ratio * len(data))], data_for_loader[int(train_ratio * len(data)):]\n",
    "\n",
    "    # prepare data for GP \n",
    "    return train_data_for_loader, validation_data_for_loader\n",
    "\n",
    "def GP_data_prepare(data, train_ratio = 0.3):\n",
    "    # Split dataset into training and validation\n",
    "    train_data, validation_data = data[:int(train_ratio * len(data))], \\\n",
    "                                  data[int(train_ratio * len(data)):]\n",
    "    train_data_t = transpose_batch(train_data)\n",
    "    states, actions, next_states = train_data_t\n",
    "    train_x = torch.cat((states, actions), -1)\n",
    "    train_y = next_states\n",
    "\n",
    "    validation_data_t = transpose_batch(validation_data)\n",
    "    val_states, val_actions, val_next_states = validation_data_t\n",
    "    val_x = torch.cat((val_states, val_actions), -1)\n",
    "    val_y = val_next_states\n",
    "    return [train_x, train_y], [val_x, val_y]\n",
    "\n",
    "def predict_trajectory(state, action, model, action_repeat=1):\n",
    "    states = []\n",
    "    for _ in range(action_repeat):\n",
    "        if model.name == 'GP':\n",
    "            state = model(torch.cat((state, action), -1)).mean\n",
    "        else: \n",
    "            state = model(state, action)\n",
    "        states.append(state)\n",
    "    return torch.stack(states, dim=0)    "
   ]
  },
  {
   "cell_type": "markdown",
   "metadata": {
    "id": "hoDu4HfhaXXZ"
   },
   "source": [
    "Training the GP model"
   ]
  },
  {
   "cell_type": "code",
   "execution_count": 31,
   "metadata": {
    "id": "lhusHG3d61zU"
   },
   "outputs": [],
   "source": [
    "train_ratio = 0.2\n",
    "\n",
    "#prepare and split the dataset\n",
    "train_data, validation_data = GP_data_prepare(data, train_ratio=train_ratio)\n",
    "train_x, train_y = train_data\n",
    "val_x, val_y = validation_data\n",
    "\n",
    "# construct dynamics model\n",
    "output_dim = 6 #the dimension of the state variables\n",
    "likelihood = gpytorch.likelihoods.MultitaskGaussianLikelihood(num_tasks=output_dim, noise_constraint=GreaterThan(0.000001))\n",
    "\n",
    "#instantiate the model\n",
    "dynamics_gp = MultitaskGPModel(train_x, train_y, likelihood, num_tasks=output_dim)"
   ]
  },
  {
   "cell_type": "code",
   "execution_count": 32,
   "metadata": {
    "id": "2VXBPy4v6shp"
   },
   "outputs": [],
   "source": [
    "learning_rate = 0.2 # REPLACE THE THREE DOTS WITH YOUR OWN CODE\n",
    "epochs = 15 # REPLACE THE THREE DOTS WITH YOUR OWN CODE\n",
    "\n",
    "mll = gpytorch.mlls.ExactMarginalLogLikelihood(likelihood, dynamics_gp) #loss function\n",
    "optimizer = torch.optim.Adam([{'params': dynamics_gp.parameters()},], lr=learning_rate) #adam optimizer\n",
    "\n",
    "losses = np.full((epochs, 2), np.nan) #instantiate variables to store loss values"
   ]
  },
  {
   "cell_type": "code",
   "execution_count": 33,
   "metadata": {
    "colab": {
     "base_uri": "https://localhost:8080/",
     "height": 325,
     "referenced_widgets": [
      "57c6ac479e3346a4b63defcd933b9cf2",
      "be84275861584c7e8fc860580f876723",
      "af1a29766c904865b191c8b662813dd4",
      "4e3a0837a0e740bc94a049e50229c9fd",
      "7b4c9992d7034856b117a962739be413",
      "fdd2e6a2f7264b01bb7d02435f008c0f",
      "ca44aa82a4b048948722b92fb117f498",
      "634d5338e73c4ae19342f71b27d05007",
      "b48c845064cd4468a4be21c01999a069",
      "55873c88b0584433bc8eddfd7774e7ae",
      "764738820e2449faa420b4fb1dcd4516"
     ]
    },
    "id": "qHIQ7WTRxqa2",
    "outputId": "7d40ee31-529a-43a0-d816-6d59c1806881"
   },
   "outputs": [
    {
     "data": {
      "application/vnd.jupyter.widget-view+json": {
       "model_id": "57c6ac479e3346a4b63defcd933b9cf2",
       "version_major": 2,
       "version_minor": 0
      },
      "text/plain": [
       "  0%|          | 0/15 [00:00<?, ?it/s]"
      ]
     },
     "metadata": {},
     "output_type": "display_data"
    },
    {
     "name": "stdout",
     "output_type": "stream",
     "text": [
      "Iter 1/15 - Loss: 1.203 - Val Los: 1.064\n",
      "Iter 2/15 - Loss: 1.109 - Val Los: 0.975\n",
      "Iter 3/15 - Loss: 1.015 - Val Los: 0.885\n",
      "Iter 4/15 - Loss: 0.921 - Val Los: 0.797\n",
      "Iter 5/15 - Loss: 0.828 - Val Los: 0.706\n",
      "Iter 6/15 - Loss: 0.733 - Val Los: 0.614\n",
      "Iter 7/15 - Loss: 0.639 - Val Los: 0.522\n",
      "Iter 8/15 - Loss: 0.545 - Val Los: 0.429\n",
      "Iter 9/15 - Loss: 0.451 - Val Los: 0.333\n",
      "Iter 10/15 - Loss: 0.356 - Val Los: 0.237\n",
      "Iter 11/15 - Loss: 0.260 - Val Los: 0.140\n",
      "Iter 12/15 - Loss: 0.163 - Val Los: 0.041\n",
      "Iter 13/15 - Loss: 0.065 - Val Los: -0.058\n",
      "Iter 14/15 - Loss: -0.034 - Val Los: -0.159\n",
      "Iter 15/15 - Loss: -0.134 - Val Los: -0.259\n"
     ]
    }
   ],
   "source": [
    "\n",
    "#iterate the training\n",
    "for i in trange(epochs):\n",
    "    dynamics_gp.train()\n",
    "    likelihood.train()\n",
    "    optimizer.zero_grad()\n",
    "\n",
    "    output = dynamics_gp(train_x)\n",
    "    loss = -mll(output, train_y) #compute the loss\n",
    "    loss.backward() #backprop the error\n",
    "    optimizer.step() #update the nn params\n",
    "\n",
    "    dynamics_gp.eval()\n",
    "    likelihood.eval()\n",
    "    val_out = dynamics_gp(val_x)\n",
    "    validation_loss = -mll(val_out, val_y) #compute the validation loss\n",
    "\n",
    "    losses[i] = [loss.detach().numpy(), validation_loss.detach().numpy()] #store the computed loss\n",
    "\n",
    "    print('Iter %d/%d - Loss: %.3f - Val Los: %.3f' % (i + 1, epochs, loss.item(), validation_loss.item()))"
   ]
  },
  {
   "cell_type": "code",
   "execution_count": 34,
   "metadata": {
    "colab": {
     "base_uri": "https://localhost:8080/",
     "height": 295
    },
    "id": "cvZjRAIF8HSt",
    "outputId": "f76c01cb-bda4-4266-9c0c-e5b1f48abdae",
    "scrolled": true
   },
   "outputs": [
    {
     "data": {
      "image/png": "[encoded data removed]",
      "text/plain": [
       "<Figure size 432x288 with 1 Axes>"
      ]
     },
     "metadata": {
      "needs_background": "light"
     },
     "output_type": "display_data"
    }
   ],
   "source": [
    "# Plot the training and validation losses\n",
    "\n",
    "plt.plot(losses)\n",
    "plt.title(\"Loss vs epochs\")\n",
    "plt.yscale(\"log\")\n",
    "plt.xlabel(\"epochs\")\n",
    "plt.ylabel(\"loss\")\n",
    "plt.legend([\"training\", \"validation\"])\n",
    "plt.show()"
   ]
  },
  {
   "cell_type": "markdown",
   "metadata": {
    "id": "JaCGA-2ox39i"
   },
   "source": [
    "## 3.2 Using the trained model for prediction"
   ]
  },
  {
   "cell_type": "code",
   "execution_count": 35,
   "metadata": {
    "colab": {
     "base_uri": "https://localhost:8080/"
    },
    "id": "7m-zQZdM7Epd",
    "outputId": "eaa288e7-38eb-4bd1-c2fc-3e08b3112203"
   },
   "outputs": [
    {
     "name": "stdout",
     "output_type": "stream",
     "text": [
      "1\n",
      "2\n",
      "3\n",
      "4\n",
      "5\n",
      "6\n",
      "7\n",
      "8\n",
      "9\n",
      "10\n",
      "11\n",
      "12\n",
      "13\n",
      "14\n",
      "15\n",
      "16\n",
      "17\n",
      "18\n",
      "19\n",
      "20\n"
     ]
    }
   ],
   "source": [
    "#run an episode with random actions for at most n time steps\n",
    "n = 20\n",
    "\n",
    "state_data_gp = []\n",
    "pred_data_gp = []\n",
    "reward_data_gp = []\n",
    "\n",
    "env.reset()\n",
    "done = False\n",
    "i=0 #iterates\n",
    "\n",
    "while (not done and i < n) :\n",
    "\n",
    "    # REPLACE THE THREE DOTS WITH YOUR OWN CODE\n",
    "    action = env.action_space.sample()\n",
    "    obs, reward, done, _, info = env.step(action)\n",
    "    state_obs  = obs[\"observation\"] \n",
    "\n",
    "    state = torch.Tensor(obs['observation']).unsqueeze(0) #convert the state to proper format\n",
    "    action = torch.Tensor(action).unsqueeze(0)  #convert the action to proper format\n",
    "\n",
    "    pred = predict_trajectory(state, action, dynamics_gp, action_repeat=1).detach().numpy() #GP prediction\n",
    "\n",
    "    #store the data\n",
    "    # REPLACE THE THREE DOTS WITH YOUR OWN CODE\n",
    "    state_data_gp.append(state_obs)\n",
    "    pred_data_gp.append(pred.flatten())\n",
    "    reward_data_gp.append(reward)\n",
    "\n",
    "    i+=1\n",
    "    print(i, end=\"\\n\")\n",
    "env.close()"
   ]
  },
  {
   "cell_type": "code",
   "execution_count": 36,
   "metadata": {
    "colab": {
     "base_uri": "https://localhost:8080/",
     "height": 573
    },
    "id": "oI5aeJkLuwlY",
    "outputId": "b1fbfb1e-e043-430b-978f-1abf10fc3045"
   },
   "outputs": [
    {
     "data": {
      "image/png": "[encoded data removed]",
      "text/plain": [
       "<Figure size 432x288 with 1 Axes>"
      ]
     },
     "metadata": {
      "needs_background": "light"
     },
     "output_type": "display_data"
    },
    {
     "data": {
      "image/png": "[encoded data removed]",
      "text/plain": [
       "<Figure size 432x288 with 1 Axes>"
      ]
     },
     "metadata": {
      "needs_background": "light"
     },
     "output_type": "display_data"
    }
   ],
   "source": [
    "# Plot the true and predicted states\n",
    "\n",
    "plt.plot(state_data_gp)\n",
    "plt.title(\"True states over iterations (time)\")\n",
    "plt.xlabel(\"Timestep\")\n",
    "plt.ylabel(\"State\")\n",
    "plt.legend(states_labels)\n",
    "plt.show()\n",
    "\n",
    "plt.plot(pred_data_gp)\n",
    "plt.title(\"Predicted states over iterations (time)\")\n",
    "plt.xlabel(\"Timestep\")\n",
    "plt.ylabel(\"State\")\n",
    "plt.legend(states_labels)\n",
    "plt.show()"
   ]
  },
  {
   "cell_type": "markdown",
   "metadata": {
    "id": "nrMRIOTz2L5q"
   },
   "source": [
    "## 3.3. CEM with GP model"
   ]
  },
  {
   "cell_type": "code",
   "execution_count": 37,
   "metadata": {
    "colab": {
     "base_uri": "https://localhost:8080/"
    },
    "id": "W64w5kpP_B2P",
    "outputId": "bbe99b5f-252d-4021-ec99-09f86e32c603"
   },
   "outputs": [
    {
     "name": "stdout",
     "output_type": "stream",
     "text": [
      "1\n",
      "2\n",
      "3\n",
      "4\n",
      "5\n",
      "6\n",
      "7\n",
      "8\n",
      "9\n",
      "10\n",
      "11\n",
      "12\n",
      "13\n",
      "14\n",
      "15\n",
      "16\n",
      "17\n",
      "18\n",
      "19\n",
      "20\n"
     ]
    }
   ],
   "source": [
    "#run an episode for GP\n",
    "\n",
    "#run an episode with random actions for at most n time steps\n",
    "n = 20 # REPLACE THE THREE DOTS WITH YOUR OWN CODE\n",
    "\n",
    "state_data_2 = []\n",
    "reward_data = []\n",
    "gp_time = []\n",
    "\n",
    "obs = env.reset()[0]\n",
    "done = False\n",
    "i=0 #iterates\n",
    "\n",
    "while (not done and i < n) :\n",
    "    \n",
    "    start = time.time()\n",
    "    # REPLACE THE THREE DOTS WITH YOUR OWN CODE\n",
    "    action = cem_planner(torch.Tensor(obs[\"observation\"]),\n",
    "                     torch.Tensor(obs[\"desired_goal\"]),\n",
    "                     env.action_space.shape[0], dynamics_gp,\n",
    "                     horizon=H, population=K) #use CEM with GP model to select actions\n",
    "    obs, reward, done, _, info = env.step(action)\n",
    "\n",
    "    state = torch.Tensor(obs['observation']).unsqueeze(0) #convert the state to proper format\n",
    "    action = torch.Tensor(action).unsqueeze(0)  #convert the action to proper format\n",
    "\n",
    "    pred = predict_trajectory(state, action, dynamics_gp, action_repeat=1).detach().numpy() #GP prediction\n",
    "\n",
    "    end = time.time()\n",
    "\n",
    "    #store the data\n",
    "    state_data_2.append(np.array(state).reshape(-1,))\n",
    "    reward_data.append(reward)\n",
    "    gp_time.append(end-start)\n",
    "\n",
    "    i+=1\n",
    "    print(i, end=\"\\n\")\n",
    "    \n",
    "env.close()\n",
    "gp_reward = reward_data"
   ]
  },
  {
   "cell_type": "code",
   "execution_count": 38,
   "metadata": {
    "colab": {
     "base_uri": "https://localhost:8080/",
     "height": 295
    },
    "id": "Ej70_JGV_JaZ",
    "outputId": "f0cd2b28-f667-4ae4-d718-da044832d801"
   },
   "outputs": [
    {
     "data": {
      "image/png": "[encoded data removed]",
      "text/plain": [
       "<Figure size 432x288 with 1 Axes>"
      ]
     },
     "metadata": {
      "needs_background": "light"
     },
     "output_type": "display_data"
    }
   ],
   "source": [
    "# Plot the rewards over time step\n",
    "\n",
    "plt.plot(gp_reward)\n",
    "plt.title(\"Reward over time\")\n",
    "plt.xlabel(\"Timestep\")\n",
    "plt.ylabel(\"Reward\")\n",
    "plt.show() "
   ]
  },
  {
   "cell_type": "code",
   "execution_count": 39,
   "metadata": {
    "colab": {
     "base_uri": "https://localhost:8080/"
    },
    "id": "wE9MpgdAIAKx",
    "outputId": "1ea2d431-f84c-4300-b087-f8881406c087"
   },
   "outputs": [
    {
     "name": "stdout",
     "output_type": "stream",
     "text": [
      "NN with CEM final reward: -8.756728981409196 - GP with CEM final reward: -5.384138609503483\n"
     ]
    }
   ],
   "source": [
    "# Get the final reward (when using NN and GP with CEM)\n",
    "\n",
    "print(f\"NN with CEM final reward: {np.sum(reward_data_nn)} - GP with CEM final reward: {np.sum(gp_reward)}\") # REPLACE THE THREE DOTS WITH YOUR OWN CODE"
   ]
  },
  {
   "cell_type": "markdown",
   "metadata": {
    "id": "6AOGRk3dH-0w"
   },
   "source": [
    "Computing the prediction error, and computation time between NN and GP"
   ]
  },
  {
   "cell_type": "code",
   "execution_count": 40,
   "metadata": {
    "colab": {
     "base_uri": "https://localhost:8080/"
    },
    "id": "38tmfO_cIGzJ",
    "outputId": "29897984-04ea-4ebe-ce9d-b69b0563a827"
   },
   "outputs": [
    {
     "name": "stdout",
     "output_type": "stream",
     "text": [
      "Mean Squared Error for NN: 0.0027540271064266826 - Mean Squared Error for GP: 0.0003432224687235973\n",
      "Computation time of NN with CEM: 0.7243785858154297 seconds - Computation time of GP with CEM: 156.52282643318176 seconds\n"
     ]
    }
   ],
   "source": [
    "# Compute the prediction error of NN and GP models during the planning horizon\n",
    "\n",
    "gp_error = np.mean((np.array(state_data_gp) - np.array(pred_data_gp))**2) # REPLACE THE THREE DOTS WITH YOUR OWN CODE\n",
    "nn_error = np.mean((np.array(state_data) - np.array(pred_data))**2)\n",
    "print(f\"Mean Squared Error for NN: {nn_error} - Mean Squared Error for GP: {gp_error}\")\n",
    "\n",
    "# Get the computation time of running CEM with NN (from 2.4)and GP (from 3.3)\n",
    "print(f\"Computation time of NN with CEM: {np.sum(nn_time)} seconds - Computation time of GP with CEM: {np.sum(gp_time)} seconds\")"
   ]
  },
  {
   "cell_type": "markdown",
   "metadata": {
    "id": "_8L6vEPWyea7"
   },
   "source": [
    "##Visualize a few episodes [Optional]\n",
    "\n",
    "Here is a code to visualize a few episodes with CEM action planner.  This is optional, but might be helpful to gain insights. \n",
    "\n",
    "En voiture, Simone!"
   ]
  },
  {
   "cell_type": "code",
   "execution_count": 42,
   "metadata": {
    "colab": {
     "base_uri": "https://localhost:8080/",
     "height": 142,
     "referenced_widgets": [
      "1f6511157ccf432cbdab98530e971434",
      "650af5efba3e43f6a84d6c7821cf5c02",
      "1de0e477eb2a47f5bc317fcec40eff85",
      "c53f93d71618464ebd6ba51fa855f551",
      "21eb241a9b434d13bc6319062174b09e",
      "c8257d19025b40038a2d782a5f0ff709",
      "2e51b2c57f68454dba346ee7ed860107",
      "64001904c2c64003a27dc1a8ca4ec560",
      "7efe578c6c284bbe9d6c1007aee815c9",
      "60ff9f8ea1364256b57fadb20b60b419",
      "d466bdd6675c456ca76fb416bbe3f0d4"
     ]
    },
    "id": "xOcOP7Of18T2",
    "outputId": "cabb0665-dd66-4462-86d9-856ae2db6333"
   },
   "outputs": [
    {
     "name": "stderr",
     "output_type": "stream",
     "text": [
      "/usr/local/lib/python3.8/dist-packages/gym/wrappers/record_video.py:78: UserWarning: \u001b[33mWARN: Overwriting existing videos at /content/video-final folder (try specifying a different `video_folder` for the `RecordVideo` wrapper if this is not desired)\u001b[0m\n",
      "  logger.warn(\n"
     ]
    },
    {
     "data": {
      "application/vnd.jupyter.widget-view+json": {
       "model_id": "1f6511157ccf432cbdab98530e971434",
       "version_major": 2,
       "version_minor": 0
      },
      "text/plain": [
       "  0%|          | 0/5 [00:00<?, ?it/s]"
      ]
     },
     "metadata": {},
     "output_type": "display_data"
    },
    {
     "name": "stderr",
     "output_type": "stream",
     "text": [
      "/usr/local/lib/python3.8/dist-packages/gymnasium/utils/passive_env_checker.py:357: UserWarning: \u001b[33mWARN: No render fps was declared in the environment (env.metadata['render_fps'] is None or not defined), rendering may occur at inconsistent fps.\u001b[0m\n",
      "  logger.warn(\n"
     ]
    }
   ],
   "source": [
    "display = Display(visible=0, size=(1400, 900))\n",
    "display.start()\n",
    "env = gym.make(\"parking-v0\", render_mode='rgb_array') #instantiate the parking environment \n",
    "VIDEO_PATH = './video-final' #designate the video path\n",
    "env = RecordVideo(env, video_folder=VIDEO_PATH, episode_trigger=lambda e: True , new_step_api=True)\n",
    "env.unwrapped.set_record_video_wrapper(env) #set up virtual monitor to store the video files at VIDEO_PATH dir\n",
    "num_episodes = 5\n",
    "H = 6\n",
    "K = 25\n",
    "iterations = 15\n",
    "\n",
    "#select the dynamic model \n",
    "selected_dynamic_model = dynamics_nn #we will use NN model for its fast computation\n",
    "\n",
    "n = 500\n",
    "for episode in trange(num_episodes):\n",
    "    i = 0\n",
    "    obs = env.reset()[0]\n",
    "    done=False\n",
    "    while (not done and i < n):\n",
    "        action = cem_planner(torch.Tensor(obs[\"observation\"]),\n",
    "                             torch.Tensor(obs[\"desired_goal\"]),\n",
    "                             env.action_space.shape[0], selected_dynamic_model, \n",
    "                             horizon=H, population=K, iterations=iterations)\n",
    "        obs, reward, done, _, info = env.step(action.numpy())\n",
    "        i += 1\n",
    "env.close()"
   ]
  },
  {
   "cell_type": "code",
   "execution_count": null,
   "metadata": {
    "colab": {
     "base_uri": "https://localhost:8080/",
     "height": 1000
    },
    "id": "cEu3RG37uwlb",
    "outputId": "d1c7569b-92e5-47ef-c033-b2a4fa5de538"
   },
   "outputs": [],
   "source": [
    "show_videos(VIDEO_PATH)"
   ]
  }
 ],
 "metadata": {
  "colab": {
   "provenance": []
  },
  "gpuClass": "standard",
  "kernelspec": {
   "display_name": "Python 3 (ipykernel)",
   "language": "python",
   "name": "python3"
  },
  "language_info": {
   "codemirror_mode": {
    "name": "ipython",
    "version": 3
   },
   "file_extension": ".py",
   "mimetype": "text/x-python",
   "name": "python",
   "nbconvert_exporter": "python",
   "pygments_lexer": "ipython3",
   "version": "3.10.6"
  },
  "pycharm": {
   "stem_cell": {
    "cell_type": "raw",
    "metadata": {
     "collapsed": false
    },
    "source": []
   }
  },
  "varInspector": {
   "cols": {
    "lenName": 16,
    "lenType": 16,
    "lenVar": 40
   },
   "kernels_config": {
    "python": {
     "delete_cmd_postfix": "",
     "delete_cmd_prefix": "del ",
     "library": "var_list.py",
     "varRefreshCmd": "print(var_dic_list())"
    },
    "r": {
     "delete_cmd_postfix": ") ",
     "delete_cmd_prefix": "rm(",
     "library": "var_list.r",
     "varRefreshCmd": "cat(var_dic_list()) "
    }
   },
   "types_to_exclude": [
    "module",
    "function",
    "builtin_function_or_method",
    "instance",
    "_Feature"
   ],
   "window_display": false
  },
  "widgets": {
   "application/vnd.jupyter.widget-state+json": {
    "13eaba45239c4be89cc12e172231469f": {
     "model_module": "@jupyter-widgets/controls",
     "model_module_version": "1.5.0",
     "model_name": "DescriptionStyleModel",
     "state": {
      "_model_module": "@jupyter-widgets/controls",
      "_model_module_version": "1.5.0",
      "_model_name": "DescriptionStyleModel",
      "_view_count": null,
      "_view_module": "@jupyter-widgets/base",
      "_view_module_version": "1.2.0",
      "_view_name": "StyleView",
      "description_width": ""
     }
    },
    "1b93e119600640bd83718acfc5f4b69e": {
     "model_module": "@jupyter-widgets/controls",
     "model_module_version": "1.5.0",
     "model_name": "DescriptionStyleModel",
     "state": {
      "_model_module": "@jupyter-widgets/controls",
      "_model_module_version": "1.5.0",
      "_model_name": "DescriptionStyleModel",
      "_view_count": null,
      "_view_module": "@jupyter-widgets/base",
      "_view_module_version": "1.2.0",
      "_view_name": "StyleView",
      "description_width": ""
     }
    },
    "1bd76569a2f84ca8bf4bb23072ad658f": {
     "model_module": "@jupyter-widgets/controls",
     "model_module_version": "1.5.0",
     "model_name": "HTMLModel",
     "state": {
      "_dom_classes": [],
      "_model_module": "@jupyter-widgets/controls",
      "_model_module_version": "1.5.0",
      "_model_name": "HTMLModel",
      "_view_count": null,
      "_view_module": "@jupyter-widgets/controls",
      "_view_module_version": "1.5.0",
      "_view_name": "HTMLView",
      "description": "",
      "description_tooltip": null,
      "layout": "IPY_MODEL_a1835f1c18924e4888b6156d7b30196d",
      "placeholder": "​",
      "style": "IPY_MODEL_45eb8a80ec3c42c191596efd1550fc32",
      "value": "100%"
     }
    },
    "1de0e477eb2a47f5bc317fcec40eff85": {
     "model_module": "@jupyter-widgets/controls",
     "model_module_version": "1.5.0",
     "model_name": "FloatProgressModel",
     "state": {
      "_dom_classes": [],
      "_model_module": "@jupyter-widgets/controls",
      "_model_module_version": "1.5.0",
      "_model_name": "FloatProgressModel",
      "_view_count": null,
      "_view_module": "@jupyter-widgets/controls",
      "_view_module_version": "1.5.0",
      "_view_name": "ProgressView",
      "bar_style": "success",
      "description": "",
      "description_tooltip": null,
      "layout": "IPY_MODEL_64001904c2c64003a27dc1a8ca4ec560",
      "max": 5,
      "min": 0,
      "orientation": "horizontal",
      "style": "IPY_MODEL_7efe578c6c284bbe9d6c1007aee815c9",
      "value": 5
     }
    },
    "1f6511157ccf432cbdab98530e971434": {
     "model_module": "@jupyter-widgets/controls",
     "model_module_version": "1.5.0",
     "model_name": "HBoxModel",
     "state": {
      "_dom_classes": [],
      "_model_module": "@jupyter-widgets/controls",
      "_model_module_version": "1.5.0",
      "_model_name": "HBoxModel",
      "_view_count": null,
      "_view_module": "@jupyter-widgets/controls",
      "_view_module_version": "1.5.0",
      "_view_name": "HBoxView",
      "box_style": "",
      "children": [
       "IPY_MODEL_650af5efba3e43f6a84d6c7821cf5c02",
       "IPY_MODEL_1de0e477eb2a47f5bc317fcec40eff85",
       "IPY_MODEL_c53f93d71618464ebd6ba51fa855f551"
      ],
      "layout": "IPY_MODEL_21eb241a9b434d13bc6319062174b09e"
     }
    },
    "21eb241a9b434d13bc6319062174b09e": {
     "model_module": "@jupyter-widgets/base",
     "model_module_version": "1.2.0",
     "model_name": "LayoutModel",
     "state": {
      "_model_module": "@jupyter-widgets/base",
      "_model_module_version": "1.2.0",
      "_model_name": "LayoutModel",
      "_view_count": null,
      "_view_module": "@jupyter-widgets/base",
      "_view_module_version": "1.2.0",
      "_view_name": "LayoutView",
      "align_content": null,
      "align_items": null,
      "align_self": null,
      "border": null,
      "bottom": null,
      "display": null,
      "flex": null,
      "flex_flow": null,
      "grid_area": null,
      "grid_auto_columns": null,
      "grid_auto_flow": null,
      "grid_auto_rows": null,
      "grid_column": null,
      "grid_gap": null,
      "grid_row": null,
      "grid_template_areas": null,
      "grid_template_columns": null,
      "grid_template_rows": null,
      "height": null,
      "justify_content": null,
      "justify_items": null,
      "left": null,
      "margin": null,
      "max_height": null,
      "max_width": null,
      "min_height": null,
      "min_width": null,
      "object_fit": null,
      "object_position": null,
      "order": null,
      "overflow": null,
      "overflow_x": null,
      "overflow_y": null,
      "padding": null,
      "right": null,
      "top": null,
      "visibility": null,
      "width": null
     }
    },
    "2e51b2c57f68454dba346ee7ed860107": {
     "model_module": "@jupyter-widgets/controls",
     "model_module_version": "1.5.0",
     "model_name": "DescriptionStyleModel",
     "state": {
      "_model_module": "@jupyter-widgets/controls",
      "_model_module_version": "1.5.0",
      "_model_name": "DescriptionStyleModel",
      "_view_count": null,
      "_view_module": "@jupyter-widgets/base",
      "_view_module_version": "1.2.0",
      "_view_name": "StyleView",
      "description_width": ""
     }
    },
    "3c644b0a5f06425c963d2b51d89efe93": {
     "model_module": "@jupyter-widgets/controls",
     "model_module_version": "1.5.0",
     "model_name": "ProgressStyleModel",
     "state": {
      "_model_module": "@jupyter-widgets/controls",
      "_model_module_version": "1.5.0",
      "_model_name": "ProgressStyleModel",
      "_view_count": null,
      "_view_module": "@jupyter-widgets/base",
      "_view_module_version": "1.2.0",
      "_view_name": "StyleView",
      "bar_color": null,
      "description_width": ""
     }
    },
    "437eae4afc34480ca3aafc03806791ab": {
     "model_module": "@jupyter-widgets/controls",
     "model_module_version": "1.5.0",
     "model_name": "HBoxModel",
     "state": {
      "_dom_classes": [],
      "_model_module": "@jupyter-widgets/controls",
      "_model_module_version": "1.5.0",
      "_model_name": "HBoxModel",
      "_view_count": null,
      "_view_module": "@jupyter-widgets/controls",
      "_view_module_version": "1.5.0",
      "_view_name": "HBoxView",
      "box_style": "",
      "children": [
       "IPY_MODEL_e2ad6b7bbcf04ba18f7c9d995a7a999c",
       "IPY_MODEL_c7aaa436aea4426a98474ed2c3785774",
       "IPY_MODEL_4437b4e821f24edeb8bd7e2688f63aa5"
      ],
      "layout": "IPY_MODEL_fff7a8b638244c728c06944260edb908"
     }
    },
    "4437b4e821f24edeb8bd7e2688f63aa5": {
     "model_module": "@jupyter-widgets/controls",
     "model_module_version": "1.5.0",
     "model_name": "HTMLModel",
     "state": {
      "_dom_classes": [],
      "_model_module": "@jupyter-widgets/controls",
      "_model_module_version": "1.5.0",
      "_model_name": "HTMLModel",
      "_view_count": null,
      "_view_module": "@jupyter-widgets/controls",
      "_view_module_version": "1.5.0",
      "_view_name": "HTMLView",
      "description": "",
      "description_tooltip": null,
      "layout": "IPY_MODEL_e75762a24eee43149287947e34d2db32",
      "placeholder": "​",
      "style": "IPY_MODEL_13eaba45239c4be89cc12e172231469f",
      "value": " 1000/1000 [00:02&lt;00:00, 445.61it/s]"
     }
    },
    "4506a12222a649a99da1b023f0d88c7d": {
     "model_module": "@jupyter-widgets/base",
     "model_module_version": "1.2.0",
     "model_name": "LayoutModel",
     "state": {
      "_model_module": "@jupyter-widgets/base",
      "_model_module_version": "1.2.0",
      "_model_name": "LayoutModel",
      "_view_count": null,
      "_view_module": "@jupyter-widgets/base",
      "_view_module_version": "1.2.0",
      "_view_name": "LayoutView",
      "align_content": null,
      "align_items": null,
      "align_self": null,
      "border": null,
      "bottom": null,
      "display": null,
      "flex": null,
      "flex_flow": null,
      "grid_area": null,
      "grid_auto_columns": null,
      "grid_auto_flow": null,
      "grid_auto_rows": null,
      "grid_column": null,
      "grid_gap": null,
      "grid_row": null,
      "grid_template_areas": null,
      "grid_template_columns": null,
      "grid_template_rows": null,
      "height": null,
      "justify_content": null,
      "justify_items": null,
      "left": null,
      "margin": null,
      "max_height": null,
      "max_width": null,
      "min_height": null,
      "min_width": null,
      "object_fit": null,
      "object_position": null,
      "order": null,
      "overflow": null,
      "overflow_x": null,
      "overflow_y": null,
      "padding": null,
      "right": null,
      "top": null,
      "visibility": null,
      "width": null
     }
    },
    "45eb8a80ec3c42c191596efd1550fc32": {
     "model_module": "@jupyter-widgets/controls",
     "model_module_version": "1.5.0",
     "model_name": "DescriptionStyleModel",
     "state": {
      "_model_module": "@jupyter-widgets/controls",
      "_model_module_version": "1.5.0",
      "_model_name": "DescriptionStyleModel",
      "_view_count": null,
      "_view_module": "@jupyter-widgets/base",
      "_view_module_version": "1.2.0",
      "_view_name": "StyleView",
      "description_width": ""
     }
    },
    "4e3a0837a0e740bc94a049e50229c9fd": {
     "model_module": "@jupyter-widgets/controls",
     "model_module_version": "1.5.0",
     "model_name": "HTMLModel",
     "state": {
      "_dom_classes": [],
      "_model_module": "@jupyter-widgets/controls",
      "_model_module_version": "1.5.0",
      "_model_name": "HTMLModel",
      "_view_count": null,
      "_view_module": "@jupyter-widgets/controls",
      "_view_module_version": "1.5.0",
      "_view_name": "HTMLView",
      "description": "",
      "description_tooltip": null,
      "layout": "IPY_MODEL_55873c88b0584433bc8eddfd7774e7ae",
      "placeholder": "​",
      "style": "IPY_MODEL_764738820e2449faa420b4fb1dcd4516",
      "value": " 15/15 [05:15&lt;00:00, 20.84s/it]"
     }
    },
    "55873c88b0584433bc8eddfd7774e7ae": {
     "model_module": "@jupyter-widgets/base",
     "model_module_version": "1.2.0",
     "model_name": "LayoutModel",
     "state": {
      "_model_module": "@jupyter-widgets/base",
      "_model_module_version": "1.2.0",
      "_model_name": "LayoutModel",
      "_view_count": null,
      "_view_module": "@jupyter-widgets/base",
      "_view_module_version": "1.2.0",
      "_view_name": "LayoutView",
      "align_content": null,
      "align_items": null,
      "align_self": null,
      "border": null,
      "bottom": null,
      "display": null,
      "flex": null,
      "flex_flow": null,
      "grid_area": null,
      "grid_auto_columns": null,
      "grid_auto_flow": null,
      "grid_auto_rows": null,
      "grid_column": null,
      "grid_gap": null,
      "grid_row": null,
      "grid_template_areas": null,
      "grid_template_columns": null,
      "grid_template_rows": null,
      "height": null,
      "justify_content": null,
      "justify_items": null,
      "left": null,
      "margin": null,
      "max_height": null,
      "max_width": null,
      "min_height": null,
      "min_width": null,
      "object_fit": null,
      "object_position": null,
      "order": null,
      "overflow": null,
      "overflow_x": null,
      "overflow_y": null,
      "padding": null,
      "right": null,
      "top": null,
      "visibility": null,
      "width": null
     }
    },
    "57c6ac479e3346a4b63defcd933b9cf2": {
     "model_module": "@jupyter-widgets/controls",
     "model_module_version": "1.5.0",
     "model_name": "HBoxModel",
     "state": {
      "_dom_classes": [],
      "_model_module": "@jupyter-widgets/controls",
      "_model_module_version": "1.5.0",
      "_model_name": "HBoxModel",
      "_view_count": null,
      "_view_module": "@jupyter-widgets/controls",
      "_view_module_version": "1.5.0",
      "_view_name": "HBoxView",
      "box_style": "",
      "children": [
       "IPY_MODEL_be84275861584c7e8fc860580f876723",
       "IPY_MODEL_af1a29766c904865b191c8b662813dd4",
       "IPY_MODEL_4e3a0837a0e740bc94a049e50229c9fd"
      ],
      "layout": "IPY_MODEL_7b4c9992d7034856b117a962739be413"
     }
    },
    "60ff9f8ea1364256b57fadb20b60b419": {
     "model_module": "@jupyter-widgets/base",
     "model_module_version": "1.2.0",
     "model_name": "LayoutModel",
     "state": {
      "_model_module": "@jupyter-widgets/base",
      "_model_module_version": "1.2.0",
      "_model_name": "LayoutModel",
      "_view_count": null,
      "_view_module": "@jupyter-widgets/base",
      "_view_module_version": "1.2.0",
      "_view_name": "LayoutView",
      "align_content": null,
      "align_items": null,
      "align_self": null,
      "border": null,
      "bottom": null,
      "display": null,
      "flex": null,
      "flex_flow": null,
      "grid_area": null,
      "grid_auto_columns": null,
      "grid_auto_flow": null,
      "grid_auto_rows": null,
      "grid_column": null,
      "grid_gap": null,
      "grid_row": null,
      "grid_template_areas": null,
      "grid_template_columns": null,
      "grid_template_rows": null,
      "height": null,
      "justify_content": null,
      "justify_items": null,
      "left": null,
      "margin": null,
      "max_height": null,
      "max_width": null,
      "min_height": null,
      "min_width": null,
      "object_fit": null,
      "object_position": null,
      "order": null,
      "overflow": null,
      "overflow_x": null,
      "overflow_y": null,
      "padding": null,
      "right": null,
      "top": null,
      "visibility": null,
      "width": null
     }
    },
    "634d5338e73c4ae19342f71b27d05007": {
     "model_module": "@jupyter-widgets/base",
     "model_module_version": "1.2.0",
     "model_name": "LayoutModel",
     "state": {
      "_model_module": "@jupyter-widgets/base",
      "_model_module_version": "1.2.0",
      "_model_name": "LayoutModel",
      "_view_count": null,
      "_view_module": "@jupyter-widgets/base",
      "_view_module_version": "1.2.0",
      "_view_name": "LayoutView",
      "align_content": null,
      "align_items": null,
      "align_self": null,
      "border": null,
      "bottom": null,
      "display": null,
      "flex": null,
      "flex_flow": null,
      "grid_area": null,
      "grid_auto_columns": null,
      "grid_auto_flow": null,
      "grid_auto_rows": null,
      "grid_column": null,
      "grid_gap": null,
      "grid_row": null,
      "grid_template_areas": null,
      "grid_template_columns": null,
      "grid_template_rows": null,
      "height": null,
      "justify_content": null,
      "justify_items": null,
      "left": null,
      "margin": null,
      "max_height": null,
      "max_width": null,
      "min_height": null,
      "min_width": null,
      "object_fit": null,
      "object_position": null,
      "order": null,
      "overflow": null,
      "overflow_x": null,
      "overflow_y": null,
      "padding": null,
      "right": null,
      "top": null,
      "visibility": null,
      "width": null
     }
    },
    "64001904c2c64003a27dc1a8ca4ec560": {
     "model_module": "@jupyter-widgets/base",
     "model_module_version": "1.2.0",
     "model_name": "LayoutModel",
     "state": {
      "_model_module": "@jupyter-widgets/base",
      "_model_module_version": "1.2.0",
      "_model_name": "LayoutModel",
      "_view_count": null,
      "_view_module": "@jupyter-widgets/base",
      "_view_module_version": "1.2.0",
      "_view_name": "LayoutView",
      "align_content": null,
      "align_items": null,
      "align_self": null,
      "border": null,
      "bottom": null,
      "display": null,
      "flex": null,
      "flex_flow": null,
      "grid_area": null,
      "grid_auto_columns": null,
      "grid_auto_flow": null,
      "grid_auto_rows": null,
      "grid_column": null,
      "grid_gap": null,
      "grid_row": null,
      "grid_template_areas": null,
      "grid_template_columns": null,
      "grid_template_rows": null,
      "height": null,
      "justify_content": null,
      "justify_items": null,
      "left": null,
      "margin": null,
      "max_height": null,
      "max_width": null,
      "min_height": null,
      "min_width": null,
      "object_fit": null,
      "object_position": null,
      "order": null,
      "overflow": null,
      "overflow_x": null,
      "overflow_y": null,
      "padding": null,
      "right": null,
      "top": null,
      "visibility": null,
      "width": null
     }
    },
    "650af5efba3e43f6a84d6c7821cf5c02": {
     "model_module": "@jupyter-widgets/controls",
     "model_module_version": "1.5.0",
     "model_name": "HTMLModel",
     "state": {
      "_dom_classes": [],
      "_model_module": "@jupyter-widgets/controls",
      "_model_module_version": "1.5.0",
      "_model_name": "HTMLModel",
      "_view_count": null,
      "_view_module": "@jupyter-widgets/controls",
      "_view_module_version": "1.5.0",
      "_view_name": "HTMLView",
      "description": "",
      "description_tooltip": null,
      "layout": "IPY_MODEL_c8257d19025b40038a2d782a5f0ff709",
      "placeholder": "​",
      "style": "IPY_MODEL_2e51b2c57f68454dba346ee7ed860107",
      "value": "100%"
     }
    },
    "72c0eb5ee86b46b0bffc15b756df5a0e": {
     "model_module": "@jupyter-widgets/controls",
     "model_module_version": "1.5.0",
     "model_name": "FloatProgressModel",
     "state": {
      "_dom_classes": [],
      "_model_module": "@jupyter-widgets/controls",
      "_model_module_version": "1.5.0",
      "_model_name": "FloatProgressModel",
      "_view_count": null,
      "_view_module": "@jupyter-widgets/controls",
      "_view_module_version": "1.5.0",
      "_view_name": "ProgressView",
      "bar_style": "success",
      "description": "",
      "description_tooltip": null,
      "layout": "IPY_MODEL_a13cbafca0ee43dd965450fa1c63cd0c",
      "max": 2000,
      "min": 0,
      "orientation": "horizontal",
      "style": "IPY_MODEL_3c644b0a5f06425c963d2b51d89efe93",
      "value": 2000
     }
    },
    "764738820e2449faa420b4fb1dcd4516": {
     "model_module": "@jupyter-widgets/controls",
     "model_module_version": "1.5.0",
     "model_name": "DescriptionStyleModel",
     "state": {
      "_model_module": "@jupyter-widgets/controls",
      "_model_module_version": "1.5.0",
      "_model_name": "DescriptionStyleModel",
      "_view_count": null,
      "_view_module": "@jupyter-widgets/base",
      "_view_module_version": "1.2.0",
      "_view_name": "StyleView",
      "description_width": ""
     }
    },
    "7b4c9992d7034856b117a962739be413": {
     "model_module": "@jupyter-widgets/base",
     "model_module_version": "1.2.0",
     "model_name": "LayoutModel",
     "state": {
      "_model_module": "@jupyter-widgets/base",
      "_model_module_version": "1.2.0",
      "_model_name": "LayoutModel",
      "_view_count": null,
      "_view_module": "@jupyter-widgets/base",
      "_view_module_version": "1.2.0",
      "_view_name": "LayoutView",
      "align_content": null,
      "align_items": null,
      "align_self": null,
      "border": null,
      "bottom": null,
      "display": null,
      "flex": null,
      "flex_flow": null,
      "grid_area": null,
      "grid_auto_columns": null,
      "grid_auto_flow": null,
      "grid_auto_rows": null,
      "grid_column": null,
      "grid_gap": null,
      "grid_row": null,
      "grid_template_areas": null,
      "grid_template_columns": null,
      "grid_template_rows": null,
      "height": null,
      "justify_content": null,
      "justify_items": null,
      "left": null,
      "margin": null,
      "max_height": null,
      "max_width": null,
      "min_height": null,
      "min_width": null,
      "object_fit": null,
      "object_position": null,
      "order": null,
      "overflow": null,
      "overflow_x": null,
      "overflow_y": null,
      "padding": null,
      "right": null,
      "top": null,
      "visibility": null,
      "width": null
     }
    },
    "7efe578c6c284bbe9d6c1007aee815c9": {
     "model_module": "@jupyter-widgets/controls",
     "model_module_version": "1.5.0",
     "model_name": "ProgressStyleModel",
     "state": {
      "_model_module": "@jupyter-widgets/controls",
      "_model_module_version": "1.5.0",
      "_model_name": "ProgressStyleModel",
      "_view_count": null,
      "_view_module": "@jupyter-widgets/base",
      "_view_module_version": "1.2.0",
      "_view_name": "StyleView",
      "bar_color": null,
      "description_width": ""
     }
    },
    "82cfafa6d1c04a1ca0d3b947091bb796": {
     "model_module": "@jupyter-widgets/base",
     "model_module_version": "1.2.0",
     "model_name": "LayoutModel",
     "state": {
      "_model_module": "@jupyter-widgets/base",
      "_model_module_version": "1.2.0",
      "_model_name": "LayoutModel",
      "_view_count": null,
      "_view_module": "@jupyter-widgets/base",
      "_view_module_version": "1.2.0",
      "_view_name": "LayoutView",
      "align_content": null,
      "align_items": null,
      "align_self": null,
      "border": null,
      "bottom": null,
      "display": null,
      "flex": null,
      "flex_flow": null,
      "grid_area": null,
      "grid_auto_columns": null,
      "grid_auto_flow": null,
      "grid_auto_rows": null,
      "grid_column": null,
      "grid_gap": null,
      "grid_row": null,
      "grid_template_areas": null,
      "grid_template_columns": null,
      "grid_template_rows": null,
      "height": null,
      "justify_content": null,
      "justify_items": null,
      "left": null,
      "margin": null,
      "max_height": null,
      "max_width": null,
      "min_height": null,
      "min_width": null,
      "object_fit": null,
      "object_position": null,
      "order": null,
      "overflow": null,
      "overflow_x": null,
      "overflow_y": null,
      "padding": null,
      "right": null,
      "top": null,
      "visibility": null,
      "width": null
     }
    },
    "a13cbafca0ee43dd965450fa1c63cd0c": {
     "model_module": "@jupyter-widgets/base",
     "model_module_version": "1.2.0",
     "model_name": "LayoutModel",
     "state": {
      "_model_module": "@jupyter-widgets/base",
      "_model_module_version": "1.2.0",
      "_model_name": "LayoutModel",
      "_view_count": null,
      "_view_module": "@jupyter-widgets/base",
      "_view_module_version": "1.2.0",
      "_view_name": "LayoutView",
      "align_content": null,
      "align_items": null,
      "align_self": null,
      "border": null,
      "bottom": null,
      "display": null,
      "flex": null,
      "flex_flow": null,
      "grid_area": null,
      "grid_auto_columns": null,
      "grid_auto_flow": null,
      "grid_auto_rows": null,
      "grid_column": null,
      "grid_gap": null,
      "grid_row": null,
      "grid_template_areas": null,
      "grid_template_columns": null,
      "grid_template_rows": null,
      "height": null,
      "justify_content": null,
      "justify_items": null,
      "left": null,
      "margin": null,
      "max_height": null,
      "max_width": null,
      "min_height": null,
      "min_width": null,
      "object_fit": null,
      "object_position": null,
      "order": null,
      "overflow": null,
      "overflow_x": null,
      "overflow_y": null,
      "padding": null,
      "right": null,
      "top": null,
      "visibility": null,
      "width": null
     }
    },
    "a1835f1c18924e4888b6156d7b30196d": {
     "model_module": "@jupyter-widgets/base",
     "model_module_version": "1.2.0",
     "model_name": "LayoutModel",
     "state": {
      "_model_module": "@jupyter-widgets/base",
      "_model_module_version": "1.2.0",
      "_model_name": "LayoutModel",
      "_view_count": null,
      "_view_module": "@jupyter-widgets/base",
      "_view_module_version": "1.2.0",
      "_view_name": "LayoutView",
      "align_content": null,
      "align_items": null,
      "align_self": null,
      "border": null,
      "bottom": null,
      "display": null,
      "flex": null,
      "flex_flow": null,
      "grid_area": null,
      "grid_auto_columns": null,
      "grid_auto_flow": null,
      "grid_auto_rows": null,
      "grid_column": null,
      "grid_gap": null,
      "grid_row": null,
      "grid_template_areas": null,
      "grid_template_columns": null,
      "grid_template_rows": null,
      "height": null,
      "justify_content": null,
      "justify_items": null,
      "left": null,
      "margin": null,
      "max_height": null,
      "max_width": null,
      "min_height": null,
      "min_width": null,
      "object_fit": null,
      "object_position": null,
      "order": null,
      "overflow": null,
      "overflow_x": null,
      "overflow_y": null,
      "padding": null,
      "right": null,
      "top": null,
      "visibility": null,
      "width": null
     }
    },
    "a1950257f7764e93a7b2bfd76f92c6a9": {
     "model_module": "@jupyter-widgets/controls",
     "model_module_version": "1.5.0",
     "model_name": "ProgressStyleModel",
     "state": {
      "_model_module": "@jupyter-widgets/controls",
      "_model_module_version": "1.5.0",
      "_model_name": "ProgressStyleModel",
      "_view_count": null,
      "_view_module": "@jupyter-widgets/base",
      "_view_module_version": "1.2.0",
      "_view_name": "StyleView",
      "bar_color": null,
      "description_width": ""
     }
    },
    "af1a29766c904865b191c8b662813dd4": {
     "model_module": "@jupyter-widgets/controls",
     "model_module_version": "1.5.0",
     "model_name": "FloatProgressModel",
     "state": {
      "_dom_classes": [],
      "_model_module": "@jupyter-widgets/controls",
      "_model_module_version": "1.5.0",
      "_model_name": "FloatProgressModel",
      "_view_count": null,
      "_view_module": "@jupyter-widgets/controls",
      "_view_module_version": "1.5.0",
      "_view_name": "ProgressView",
      "bar_style": "success",
      "description": "",
      "description_tooltip": null,
      "layout": "IPY_MODEL_634d5338e73c4ae19342f71b27d05007",
      "max": 15,
      "min": 0,
      "orientation": "horizontal",
      "style": "IPY_MODEL_b48c845064cd4468a4be21c01999a069",
      "value": 15
     }
    },
    "b48c845064cd4468a4be21c01999a069": {
     "model_module": "@jupyter-widgets/controls",
     "model_module_version": "1.5.0",
     "model_name": "ProgressStyleModel",
     "state": {
      "_model_module": "@jupyter-widgets/controls",
      "_model_module_version": "1.5.0",
      "_model_name": "ProgressStyleModel",
      "_view_count": null,
      "_view_module": "@jupyter-widgets/base",
      "_view_module_version": "1.2.0",
      "_view_name": "StyleView",
      "bar_color": null,
      "description_width": ""
     }
    },
    "be84275861584c7e8fc860580f876723": {
     "model_module": "@jupyter-widgets/controls",
     "model_module_version": "1.5.0",
     "model_name": "HTMLModel",
     "state": {
      "_dom_classes": [],
      "_model_module": "@jupyter-widgets/controls",
      "_model_module_version": "1.5.0",
      "_model_name": "HTMLModel",
      "_view_count": null,
      "_view_module": "@jupyter-widgets/controls",
      "_view_module_version": "1.5.0",
      "_view_name": "HTMLView",
      "description": "",
      "description_tooltip": null,
      "layout": "IPY_MODEL_fdd2e6a2f7264b01bb7d02435f008c0f",
      "placeholder": "​",
      "style": "IPY_MODEL_ca44aa82a4b048948722b92fb117f498",
      "value": "100%"
     }
    },
    "c53f93d71618464ebd6ba51fa855f551": {
     "model_module": "@jupyter-widgets/controls",
     "model_module_version": "1.5.0",
     "model_name": "HTMLModel",
     "state": {
      "_dom_classes": [],
      "_model_module": "@jupyter-widgets/controls",
      "_model_module_version": "1.5.0",
      "_model_name": "HTMLModel",
      "_view_count": null,
      "_view_module": "@jupyter-widgets/controls",
      "_view_module_version": "1.5.0",
      "_view_name": "HTMLView",
      "description": "",
      "description_tooltip": null,
      "layout": "IPY_MODEL_60ff9f8ea1364256b57fadb20b60b419",
      "placeholder": "​",
      "style": "IPY_MODEL_d466bdd6675c456ca76fb416bbe3f0d4",
      "value": " 5/5 [01:15&lt;00:00, 14.20s/it]"
     }
    },
    "c7aaa436aea4426a98474ed2c3785774": {
     "model_module": "@jupyter-widgets/controls",
     "model_module_version": "1.5.0",
     "model_name": "FloatProgressModel",
     "state": {
      "_dom_classes": [],
      "_model_module": "@jupyter-widgets/controls",
      "_model_module_version": "1.5.0",
      "_model_name": "FloatProgressModel",
      "_view_count": null,
      "_view_module": "@jupyter-widgets/controls",
      "_view_module_version": "1.5.0",
      "_view_name": "ProgressView",
      "bar_style": "success",
      "description": "",
      "description_tooltip": null,
      "layout": "IPY_MODEL_4506a12222a649a99da1b023f0d88c7d",
      "max": 1000,
      "min": 0,
      "orientation": "horizontal",
      "style": "IPY_MODEL_a1950257f7764e93a7b2bfd76f92c6a9",
      "value": 1000
     }
    },
    "c8257d19025b40038a2d782a5f0ff709": {
     "model_module": "@jupyter-widgets/base",
     "model_module_version": "1.2.0",
     "model_name": "LayoutModel",
     "state": {
      "_model_module": "@jupyter-widgets/base",
      "_model_module_version": "1.2.0",
      "_model_name": "LayoutModel",
      "_view_count": null,
      "_view_module": "@jupyter-widgets/base",
      "_view_module_version": "1.2.0",
      "_view_name": "LayoutView",
      "align_content": null,
      "align_items": null,
      "align_self": null,
      "border": null,
      "bottom": null,
      "display": null,
      "flex": null,
      "flex_flow": null,
      "grid_area": null,
      "grid_auto_columns": null,
      "grid_auto_flow": null,
      "grid_auto_rows": null,
      "grid_column": null,
      "grid_gap": null,
      "grid_row": null,
      "grid_template_areas": null,
      "grid_template_columns": null,
      "grid_template_rows": null,
      "height": null,
      "justify_content": null,
      "justify_items": null,
      "left": null,
      "margin": null,
      "max_height": null,
      "max_width": null,
      "min_height": null,
      "min_width": null,
      "object_fit": null,
      "object_position": null,
      "order": null,
      "overflow": null,
      "overflow_x": null,
      "overflow_y": null,
      "padding": null,
      "right": null,
      "top": null,
      "visibility": null,
      "width": null
     }
    },
    "ca44aa82a4b048948722b92fb117f498": {
     "model_module": "@jupyter-widgets/controls",
     "model_module_version": "1.5.0",
     "model_name": "DescriptionStyleModel",
     "state": {
      "_model_module": "@jupyter-widgets/controls",
      "_model_module_version": "1.5.0",
      "_model_name": "DescriptionStyleModel",
      "_view_count": null,
      "_view_module": "@jupyter-widgets/base",
      "_view_module_version": "1.2.0",
      "_view_name": "StyleView",
      "description_width": ""
     }
    },
    "d466bdd6675c456ca76fb416bbe3f0d4": {
     "model_module": "@jupyter-widgets/controls",
     "model_module_version": "1.5.0",
     "model_name": "DescriptionStyleModel",
     "state": {
      "_model_module": "@jupyter-widgets/controls",
      "_model_module_version": "1.5.0",
      "_model_name": "DescriptionStyleModel",
      "_view_count": null,
      "_view_module": "@jupyter-widgets/base",
      "_view_module_version": "1.2.0",
      "_view_name": "StyleView",
      "description_width": ""
     }
    },
    "da54183229c947a2b3e502bbe7c59d29": {
     "model_module": "@jupyter-widgets/controls",
     "model_module_version": "1.5.0",
     "model_name": "HTMLModel",
     "state": {
      "_dom_classes": [],
      "_model_module": "@jupyter-widgets/controls",
      "_model_module_version": "1.5.0",
      "_model_name": "HTMLModel",
      "_view_count": null,
      "_view_module": "@jupyter-widgets/controls",
      "_view_module_version": "1.5.0",
      "_view_name": "HTMLView",
      "description": "",
      "description_tooltip": null,
      "layout": "IPY_MODEL_82cfafa6d1c04a1ca0d3b947091bb796",
      "placeholder": "​",
      "style": "IPY_MODEL_de6e40c839234514b047041da5224463",
      "value": " 2000/2000 [00:42&lt;00:00, 32.91it/s]"
     }
    },
    "de6e40c839234514b047041da5224463": {
     "model_module": "@jupyter-widgets/controls",
     "model_module_version": "1.5.0",
     "model_name": "DescriptionStyleModel",
     "state": {
      "_model_module": "@jupyter-widgets/controls",
      "_model_module_version": "1.5.0",
      "_model_name": "DescriptionStyleModel",
      "_view_count": null,
      "_view_module": "@jupyter-widgets/base",
      "_view_module_version": "1.2.0",
      "_view_name": "StyleView",
      "description_width": ""
     }
    },
    "e2ad6b7bbcf04ba18f7c9d995a7a999c": {
     "model_module": "@jupyter-widgets/controls",
     "model_module_version": "1.5.0",
     "model_name": "HTMLModel",
     "state": {
      "_dom_classes": [],
      "_model_module": "@jupyter-widgets/controls",
      "_model_module_version": "1.5.0",
      "_model_name": "HTMLModel",
      "_view_count": null,
      "_view_module": "@jupyter-widgets/controls",
      "_view_module_version": "1.5.0",
      "_view_name": "HTMLView",
      "description": "",
      "description_tooltip": null,
      "layout": "IPY_MODEL_f7226ba6b6904194a58ec110607d9e4f",
      "placeholder": "​",
      "style": "IPY_MODEL_1b93e119600640bd83718acfc5f4b69e",
      "value": "100%"
     }
    },
    "e75762a24eee43149287947e34d2db32": {
     "model_module": "@jupyter-widgets/base",
     "model_module_version": "1.2.0",
     "model_name": "LayoutModel",
     "state": {
      "_model_module": "@jupyter-widgets/base",
      "_model_module_version": "1.2.0",
      "_model_name": "LayoutModel",
      "_view_count": null,
      "_view_module": "@jupyter-widgets/base",
      "_view_module_version": "1.2.0",
      "_view_name": "LayoutView",
      "align_content": null,
      "align_items": null,
      "align_self": null,
      "border": null,
      "bottom": null,
      "display": null,
      "flex": null,
      "flex_flow": null,
      "grid_area": null,
      "grid_auto_columns": null,
      "grid_auto_flow": null,
      "grid_auto_rows": null,
      "grid_column": null,
      "grid_gap": null,
      "grid_row": null,
      "grid_template_areas": null,
      "grid_template_columns": null,
      "grid_template_rows": null,
      "height": null,
      "justify_content": null,
      "justify_items": null,
      "left": null,
      "margin": null,
      "max_height": null,
      "max_width": null,
      "min_height": null,
      "min_width": null,
      "object_fit": null,
      "object_position": null,
      "order": null,
      "overflow": null,
      "overflow_x": null,
      "overflow_y": null,
      "padding": null,
      "right": null,
      "top": null,
      "visibility": null,
      "width": null
     }
    },
    "ee900fd8b5a541b993a2d72c3c1b3a2a": {
     "model_module": "@jupyter-widgets/base",
     "model_module_version": "1.2.0",
     "model_name": "LayoutModel",
     "state": {
      "_model_module": "@jupyter-widgets/base",
      "_model_module_version": "1.2.0",
      "_model_name": "LayoutModel",
      "_view_count": null,
      "_view_module": "@jupyter-widgets/base",
      "_view_module_version": "1.2.0",
      "_view_name": "LayoutView",
      "align_content": null,
      "align_items": null,
      "align_self": null,
      "border": null,
      "bottom": null,
      "display": null,
      "flex": null,
      "flex_flow": null,
      "grid_area": null,
      "grid_auto_columns": null,
      "grid_auto_flow": null,
      "grid_auto_rows": null,
      "grid_column": null,
      "grid_gap": null,
      "grid_row": null,
      "grid_template_areas": null,
      "grid_template_columns": null,
      "grid_template_rows": null,
      "height": null,
      "justify_content": null,
      "justify_items": null,
      "left": null,
      "margin": null,
      "max_height": null,
      "max_width": null,
      "min_height": null,
      "min_width": null,
      "object_fit": null,
      "object_position": null,
      "order": null,
      "overflow": null,
      "overflow_x": null,
      "overflow_y": null,
      "padding": null,
      "right": null,
      "top": null,
      "visibility": null,
      "width": null
     }
    },
    "f7226ba6b6904194a58ec110607d9e4f": {
     "model_module": "@jupyter-widgets/base",
     "model_module_version": "1.2.0",
     "model_name": "LayoutModel",
     "state": {
      "_model_module": "@jupyter-widgets/base",
      "_model_module_version": "1.2.0",
      "_model_name": "LayoutModel",
      "_view_count": null,
      "_view_module": "@jupyter-widgets/base",
      "_view_module_version": "1.2.0",
      "_view_name": "LayoutView",
      "align_content": null,
      "align_items": null,
      "align_self": null,
      "border": null,
      "bottom": null,
      "display": null,
      "flex": null,
      "flex_flow": null,
      "grid_area": null,
      "grid_auto_columns": null,
      "grid_auto_flow": null,
      "grid_auto_rows": null,
      "grid_column": null,
      "grid_gap": null,
      "grid_row": null,
      "grid_template_areas": null,
      "grid_template_columns": null,
      "grid_template_rows": null,
      "height": null,
      "justify_content": null,
      "justify_items": null,
      "left": null,
      "margin": null,
      "max_height": null,
      "max_width": null,
      "min_height": null,
      "min_width": null,
      "object_fit": null,
      "object_position": null,
      "order": null,
      "overflow": null,
      "overflow_x": null,
      "overflow_y": null,
      "padding": null,
      "right": null,
      "top": null,
      "visibility": null,
      "width": null
     }
    },
    "fdd2e6a2f7264b01bb7d02435f008c0f": {
     "model_module": "@jupyter-widgets/base",
     "model_module_version": "1.2.0",
     "model_name": "LayoutModel",
     "state": {
      "_model_module": "@jupyter-widgets/base",
      "_model_module_version": "1.2.0",
      "_model_name": "LayoutModel",
      "_view_count": null,
      "_view_module": "@jupyter-widgets/base",
      "_view_module_version": "1.2.0",
      "_view_name": "LayoutView",
      "align_content": null,
      "align_items": null,
      "align_self": null,
      "border": null,
      "bottom": null,
      "display": null,
      "flex": null,
      "flex_flow": null,
      "grid_area": null,
      "grid_auto_columns": null,
      "grid_auto_flow": null,
      "grid_auto_rows": null,
      "grid_column": null,
      "grid_gap": null,
      "grid_row": null,
      "grid_template_areas": null,
      "grid_template_columns": null,
      "grid_template_rows": null,
      "height": null,
      "justify_content": null,
      "justify_items": null,
      "left": null,
      "margin": null,
      "max_height": null,
      "max_width": null,
      "min_height": null,
      "min_width": null,
      "object_fit": null,
      "object_position": null,
      "order": null,
      "overflow": null,
      "overflow_x": null,
      "overflow_y": null,
      "padding": null,
      "right": null,
      "top": null,
      "visibility": null,
      "width": null
     }
    },
    "fff7a8b638244c728c06944260edb908": {
     "model_module": "@jupyter-widgets/base",
     "model_module_version": "1.2.0",
     "model_name": "LayoutModel",
     "state": {
      "_model_module": "@jupyter-widgets/base",
      "_model_module_version": "1.2.0",
      "_model_name": "LayoutModel",
      "_view_count": null,
      "_view_module": "@jupyter-widgets/base",
      "_view_module_version": "1.2.0",
      "_view_name": "LayoutView",
      "align_content": null,
      "align_items": null,
      "align_self": null,
      "border": null,
      "bottom": null,
      "display": null,
      "flex": null,
      "flex_flow": null,
      "grid_area": null,
      "grid_auto_columns": null,
      "grid_auto_flow": null,
      "grid_auto_rows": null,
      "grid_column": null,
      "grid_gap": null,
      "grid_row": null,
      "grid_template_areas": null,
      "grid_template_columns": null,
      "grid_template_rows": null,
      "height": null,
      "justify_content": null,
      "justify_items": null,
      "left": null,
      "margin": null,
      "max_height": null,
      "max_width": null,
      "min_height": null,
      "min_width": null,
      "object_fit": null,
      "object_position": null,
      "order": null,
      "overflow": null,
      "overflow_x": null,
      "overflow_y": null,
      "padding": null,
      "right": null,
      "top": null,
      "visibility": null,
      "width": null
     }
    },
    "ffffe084c6e74b55bccc0290110687c9": {
     "model_module": "@jupyter-widgets/controls",
     "model_module_version": "1.5.0",
     "model_name": "HBoxModel",
     "state": {
      "_dom_classes": [],
      "_model_module": "@jupyter-widgets/controls",
      "_model_module_version": "1.5.0",
      "_model_name": "HBoxModel",
      "_view_count": null,
      "_view_module": "@jupyter-widgets/controls",
      "_view_module_version": "1.5.0",
      "_view_name": "HBoxView",
      "box_style": "",
      "children": [
       "IPY_MODEL_1bd76569a2f84ca8bf4bb23072ad658f",
       "IPY_MODEL_72c0eb5ee86b46b0bffc15b756df5a0e",
       "IPY_MODEL_da54183229c947a2b3e502bbe7c59d29"
      ],
      "layout": "IPY_MODEL_ee900fd8b5a541b993a2d72c3c1b3a2a"
     }
    }
   }
  }
 },
 "nbformat": 4,
 "nbformat_minor": 1
}
